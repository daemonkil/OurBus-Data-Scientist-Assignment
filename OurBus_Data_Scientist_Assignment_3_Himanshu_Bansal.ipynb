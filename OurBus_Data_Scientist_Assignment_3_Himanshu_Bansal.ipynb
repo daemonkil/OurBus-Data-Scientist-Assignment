{
  "nbformat": 4,
  "nbformat_minor": 0,
  "metadata": {
    "colab": {
      "name": "OurBus_Data_Scientist_Assignment_3_Himanshu_Bansal.ipynb",
      "provenance": [],
      "collapsed_sections": [],
      "include_colab_link": true
    },
    "kernelspec": {
      "display_name": "Python 3",
      "language": "python",
      "name": "python3"
    },
    "language_info": {
      "codemirror_mode": {
        "name": "ipython",
        "version": 3
      },
      "file_extension": ".py",
      "mimetype": "text/x-python",
      "name": "python",
      "nbconvert_exporter": "python",
      "pygments_lexer": "ipython3",
      "version": "3.9.4"
    },
    "widgets": {
      "application/vnd.jupyter.widget-state+json": {
        "074ee64508e34ee0b4e4f2cb10bfb55a": {
          "model_module": "@jupyter-widgets/controls",
          "model_name": "HBoxModel",
          "state": {
            "_dom_classes": [],
            "_model_module": "@jupyter-widgets/controls",
            "_model_module_version": "1.5.0",
            "_model_name": "HBoxModel",
            "_view_count": null,
            "_view_module": "@jupyter-widgets/controls",
            "_view_module_version": "1.5.0",
            "_view_name": "HBoxView",
            "box_style": "",
            "children": [
              "IPY_MODEL_e813a42bb9a2401580ddd1629f604919",
              "IPY_MODEL_c01800c740ee4eff9ec4ad9876083b03",
              "IPY_MODEL_5010d5e55fa44ad798603f5bc0645f80"
            ],
            "layout": "IPY_MODEL_f7c77447f1064981b2f31c35a3e4c954"
          }
        },
        "f7c77447f1064981b2f31c35a3e4c954": {
          "model_module": "@jupyter-widgets/base",
          "model_name": "LayoutModel",
          "state": {
            "_model_module": "@jupyter-widgets/base",
            "_model_module_version": "1.2.0",
            "_model_name": "LayoutModel",
            "_view_count": null,
            "_view_module": "@jupyter-widgets/base",
            "_view_module_version": "1.2.0",
            "_view_name": "LayoutView",
            "align_content": null,
            "align_items": null,
            "align_self": null,
            "border": null,
            "bottom": null,
            "display": null,
            "flex": null,
            "flex_flow": null,
            "grid_area": null,
            "grid_auto_columns": null,
            "grid_auto_flow": null,
            "grid_auto_rows": null,
            "grid_column": null,
            "grid_gap": null,
            "grid_row": null,
            "grid_template_areas": null,
            "grid_template_columns": null,
            "grid_template_rows": null,
            "height": null,
            "justify_content": null,
            "justify_items": null,
            "left": null,
            "margin": null,
            "max_height": null,
            "max_width": null,
            "min_height": null,
            "min_width": null,
            "object_fit": null,
            "object_position": null,
            "order": null,
            "overflow": null,
            "overflow_x": null,
            "overflow_y": null,
            "padding": null,
            "right": null,
            "top": null,
            "visibility": null,
            "width": null
          }
        },
        "e813a42bb9a2401580ddd1629f604919": {
          "model_module": "@jupyter-widgets/controls",
          "model_name": "HTMLModel",
          "state": {
            "_dom_classes": [],
            "_model_module": "@jupyter-widgets/controls",
            "_model_module_version": "1.5.0",
            "_model_name": "HTMLModel",
            "_view_count": null,
            "_view_module": "@jupyter-widgets/controls",
            "_view_module_version": "1.5.0",
            "_view_name": "HTMLView",
            "description": "",
            "description_tooltip": null,
            "layout": "IPY_MODEL_6f4c444271794b93be99461fda3a609d",
            "placeholder": "​",
            "style": "IPY_MODEL_938002669ca1452b8d4011cae61383da",
            "value": " 93%"
          }
        },
        "c01800c740ee4eff9ec4ad9876083b03": {
          "model_module": "@jupyter-widgets/controls",
          "model_name": "FloatProgressModel",
          "state": {
            "_dom_classes": [],
            "_model_module": "@jupyter-widgets/controls",
            "_model_module_version": "1.5.0",
            "_model_name": "FloatProgressModel",
            "_view_count": null,
            "_view_module": "@jupyter-widgets/controls",
            "_view_module_version": "1.5.0",
            "_view_name": "ProgressView",
            "bar_style": "danger",
            "description": "",
            "description_tooltip": null,
            "layout": "IPY_MODEL_c57d03ac3b4d4113b855cdc39e61874b",
            "max": 100,
            "min": 0,
            "orientation": "horizontal",
            "style": "IPY_MODEL_abb349dc2a3547b2b59787fe0082750a",
            "value": 93
          }
        },
        "5010d5e55fa44ad798603f5bc0645f80": {
          "model_module": "@jupyter-widgets/controls",
          "model_name": "HTMLModel",
          "state": {
            "_dom_classes": [],
            "_model_module": "@jupyter-widgets/controls",
            "_model_module_version": "1.5.0",
            "_model_name": "HTMLModel",
            "_view_count": null,
            "_view_module": "@jupyter-widgets/controls",
            "_view_module_version": "1.5.0",
            "_view_name": "HTMLView",
            "description": "",
            "description_tooltip": null,
            "layout": "IPY_MODEL_fa3609ba89b54517a701cc432e70add1",
            "placeholder": "​",
            "style": "IPY_MODEL_e1fa6974e5734b939ca7b0e602af61e6",
            "value": " 93/100 [00:00&lt;00:00, 436.92it/s]"
          }
        },
        "938002669ca1452b8d4011cae61383da": {
          "model_module": "@jupyter-widgets/controls",
          "model_name": "DescriptionStyleModel",
          "state": {
            "_model_module": "@jupyter-widgets/controls",
            "_model_module_version": "1.5.0",
            "_model_name": "DescriptionStyleModel",
            "_view_count": null,
            "_view_module": "@jupyter-widgets/base",
            "_view_module_version": "1.2.0",
            "_view_name": "StyleView",
            "description_width": ""
          }
        },
        "6f4c444271794b93be99461fda3a609d": {
          "model_module": "@jupyter-widgets/base",
          "model_name": "LayoutModel",
          "state": {
            "_model_module": "@jupyter-widgets/base",
            "_model_module_version": "1.2.0",
            "_model_name": "LayoutModel",
            "_view_count": null,
            "_view_module": "@jupyter-widgets/base",
            "_view_module_version": "1.2.0",
            "_view_name": "LayoutView",
            "align_content": null,
            "align_items": null,
            "align_self": null,
            "border": null,
            "bottom": null,
            "display": null,
            "flex": null,
            "flex_flow": null,
            "grid_area": null,
            "grid_auto_columns": null,
            "grid_auto_flow": null,
            "grid_auto_rows": null,
            "grid_column": null,
            "grid_gap": null,
            "grid_row": null,
            "grid_template_areas": null,
            "grid_template_columns": null,
            "grid_template_rows": null,
            "height": null,
            "justify_content": null,
            "justify_items": null,
            "left": null,
            "margin": null,
            "max_height": null,
            "max_width": null,
            "min_height": null,
            "min_width": null,
            "object_fit": null,
            "object_position": null,
            "order": null,
            "overflow": null,
            "overflow_x": null,
            "overflow_y": null,
            "padding": null,
            "right": null,
            "top": null,
            "visibility": null,
            "width": null
          }
        },
        "abb349dc2a3547b2b59787fe0082750a": {
          "model_module": "@jupyter-widgets/controls",
          "model_name": "ProgressStyleModel",
          "state": {
            "_model_module": "@jupyter-widgets/controls",
            "_model_module_version": "1.5.0",
            "_model_name": "ProgressStyleModel",
            "_view_count": null,
            "_view_module": "@jupyter-widgets/base",
            "_view_module_version": "1.2.0",
            "_view_name": "StyleView",
            "bar_color": null,
            "description_width": ""
          }
        },
        "c57d03ac3b4d4113b855cdc39e61874b": {
          "model_module": "@jupyter-widgets/base",
          "model_name": "LayoutModel",
          "state": {
            "_model_module": "@jupyter-widgets/base",
            "_model_module_version": "1.2.0",
            "_model_name": "LayoutModel",
            "_view_count": null,
            "_view_module": "@jupyter-widgets/base",
            "_view_module_version": "1.2.0",
            "_view_name": "LayoutView",
            "align_content": null,
            "align_items": null,
            "align_self": null,
            "border": null,
            "bottom": null,
            "display": null,
            "flex": null,
            "flex_flow": null,
            "grid_area": null,
            "grid_auto_columns": null,
            "grid_auto_flow": null,
            "grid_auto_rows": null,
            "grid_column": null,
            "grid_gap": null,
            "grid_row": null,
            "grid_template_areas": null,
            "grid_template_columns": null,
            "grid_template_rows": null,
            "height": null,
            "justify_content": null,
            "justify_items": null,
            "left": null,
            "margin": null,
            "max_height": null,
            "max_width": null,
            "min_height": null,
            "min_width": null,
            "object_fit": null,
            "object_position": null,
            "order": null,
            "overflow": null,
            "overflow_x": null,
            "overflow_y": null,
            "padding": null,
            "right": null,
            "top": null,
            "visibility": null,
            "width": null
          }
        },
        "e1fa6974e5734b939ca7b0e602af61e6": {
          "model_module": "@jupyter-widgets/controls",
          "model_name": "DescriptionStyleModel",
          "state": {
            "_model_module": "@jupyter-widgets/controls",
            "_model_module_version": "1.5.0",
            "_model_name": "DescriptionStyleModel",
            "_view_count": null,
            "_view_module": "@jupyter-widgets/base",
            "_view_module_version": "1.2.0",
            "_view_name": "StyleView",
            "description_width": ""
          }
        },
        "fa3609ba89b54517a701cc432e70add1": {
          "model_module": "@jupyter-widgets/base",
          "model_name": "LayoutModel",
          "state": {
            "_model_module": "@jupyter-widgets/base",
            "_model_module_version": "1.2.0",
            "_model_name": "LayoutModel",
            "_view_count": null,
            "_view_module": "@jupyter-widgets/base",
            "_view_module_version": "1.2.0",
            "_view_name": "LayoutView",
            "align_content": null,
            "align_items": null,
            "align_self": null,
            "border": null,
            "bottom": null,
            "display": null,
            "flex": null,
            "flex_flow": null,
            "grid_area": null,
            "grid_auto_columns": null,
            "grid_auto_flow": null,
            "grid_auto_rows": null,
            "grid_column": null,
            "grid_gap": null,
            "grid_row": null,
            "grid_template_areas": null,
            "grid_template_columns": null,
            "grid_template_rows": null,
            "height": null,
            "justify_content": null,
            "justify_items": null,
            "left": null,
            "margin": null,
            "max_height": null,
            "max_width": null,
            "min_height": null,
            "min_width": null,
            "object_fit": null,
            "object_position": null,
            "order": null,
            "overflow": null,
            "overflow_x": null,
            "overflow_y": null,
            "padding": null,
            "right": null,
            "top": null,
            "visibility": null,
            "width": null
          }
        },
        "4723abe022c742ebb693e4a8de178482": {
          "model_module": "@jupyter-widgets/controls",
          "model_name": "HBoxModel",
          "state": {
            "_dom_classes": [],
            "_model_module": "@jupyter-widgets/controls",
            "_model_module_version": "1.5.0",
            "_model_name": "HBoxModel",
            "_view_count": null,
            "_view_module": "@jupyter-widgets/controls",
            "_view_module_version": "1.5.0",
            "_view_name": "HBoxView",
            "box_style": "",
            "children": [
              "IPY_MODEL_43a39bb023f848d4a9b3cee1a2d8e16a",
              "IPY_MODEL_78df748cc63c42b6960c878b809dd747",
              "IPY_MODEL_2da0bfed222f4997acb9134b003b1276"
            ],
            "layout": "IPY_MODEL_16622a33d43e4530a403ce3a795003d0"
          }
        },
        "16622a33d43e4530a403ce3a795003d0": {
          "model_module": "@jupyter-widgets/base",
          "model_name": "LayoutModel",
          "state": {
            "_model_module": "@jupyter-widgets/base",
            "_model_module_version": "1.2.0",
            "_model_name": "LayoutModel",
            "_view_count": null,
            "_view_module": "@jupyter-widgets/base",
            "_view_module_version": "1.2.0",
            "_view_name": "LayoutView",
            "align_content": null,
            "align_items": null,
            "align_self": null,
            "border": null,
            "bottom": null,
            "display": null,
            "flex": null,
            "flex_flow": null,
            "grid_area": null,
            "grid_auto_columns": null,
            "grid_auto_flow": null,
            "grid_auto_rows": null,
            "grid_column": null,
            "grid_gap": null,
            "grid_row": null,
            "grid_template_areas": null,
            "grid_template_columns": null,
            "grid_template_rows": null,
            "height": null,
            "justify_content": null,
            "justify_items": null,
            "left": null,
            "margin": null,
            "max_height": null,
            "max_width": null,
            "min_height": null,
            "min_width": null,
            "object_fit": null,
            "object_position": null,
            "order": null,
            "overflow": null,
            "overflow_x": null,
            "overflow_y": null,
            "padding": null,
            "right": null,
            "top": null,
            "visibility": null,
            "width": null
          }
        },
        "43a39bb023f848d4a9b3cee1a2d8e16a": {
          "model_module": "@jupyter-widgets/controls",
          "model_name": "HTMLModel",
          "state": {
            "_dom_classes": [],
            "_model_module": "@jupyter-widgets/controls",
            "_model_module_version": "1.5.0",
            "_model_name": "HTMLModel",
            "_view_count": null,
            "_view_module": "@jupyter-widgets/controls",
            "_view_module_version": "1.5.0",
            "_view_name": "HTMLView",
            "description": "",
            "description_tooltip": null,
            "layout": "IPY_MODEL_b551d57c4f754272a11450b8d788f669",
            "placeholder": "​",
            "style": "IPY_MODEL_ed4e05da220743b798631edcd64111a9",
            "value": " 17%"
          }
        },
        "78df748cc63c42b6960c878b809dd747": {
          "model_module": "@jupyter-widgets/controls",
          "model_name": "FloatProgressModel",
          "state": {
            "_dom_classes": [],
            "_model_module": "@jupyter-widgets/controls",
            "_model_module_version": "1.5.0",
            "_model_name": "FloatProgressModel",
            "_view_count": null,
            "_view_module": "@jupyter-widgets/controls",
            "_view_module_version": "1.5.0",
            "_view_name": "ProgressView",
            "bar_style": "danger",
            "description": "",
            "description_tooltip": null,
            "layout": "IPY_MODEL_35c8d69026824b5ca33314d212e08879",
            "max": 100,
            "min": 0,
            "orientation": "horizontal",
            "style": "IPY_MODEL_24547ab5f6a448d7b24048ac39ca731b",
            "value": 17
          }
        },
        "2da0bfed222f4997acb9134b003b1276": {
          "model_module": "@jupyter-widgets/controls",
          "model_name": "HTMLModel",
          "state": {
            "_dom_classes": [],
            "_model_module": "@jupyter-widgets/controls",
            "_model_module_version": "1.5.0",
            "_model_name": "HTMLModel",
            "_view_count": null,
            "_view_module": "@jupyter-widgets/controls",
            "_view_module_version": "1.5.0",
            "_view_name": "HTMLView",
            "description": "",
            "description_tooltip": null,
            "layout": "IPY_MODEL_d6e8aae2ee224103bb7e3802b88a78e1",
            "placeholder": "​",
            "style": "IPY_MODEL_27f0fab9146e450aa1cede6d960059e8",
            "value": " 17/100 [00:00&lt;00:00, 184.56it/s]"
          }
        },
        "ed4e05da220743b798631edcd64111a9": {
          "model_module": "@jupyter-widgets/controls",
          "model_name": "DescriptionStyleModel",
          "state": {
            "_model_module": "@jupyter-widgets/controls",
            "_model_module_version": "1.5.0",
            "_model_name": "DescriptionStyleModel",
            "_view_count": null,
            "_view_module": "@jupyter-widgets/base",
            "_view_module_version": "1.2.0",
            "_view_name": "StyleView",
            "description_width": ""
          }
        },
        "b551d57c4f754272a11450b8d788f669": {
          "model_module": "@jupyter-widgets/base",
          "model_name": "LayoutModel",
          "state": {
            "_model_module": "@jupyter-widgets/base",
            "_model_module_version": "1.2.0",
            "_model_name": "LayoutModel",
            "_view_count": null,
            "_view_module": "@jupyter-widgets/base",
            "_view_module_version": "1.2.0",
            "_view_name": "LayoutView",
            "align_content": null,
            "align_items": null,
            "align_self": null,
            "border": null,
            "bottom": null,
            "display": null,
            "flex": null,
            "flex_flow": null,
            "grid_area": null,
            "grid_auto_columns": null,
            "grid_auto_flow": null,
            "grid_auto_rows": null,
            "grid_column": null,
            "grid_gap": null,
            "grid_row": null,
            "grid_template_areas": null,
            "grid_template_columns": null,
            "grid_template_rows": null,
            "height": null,
            "justify_content": null,
            "justify_items": null,
            "left": null,
            "margin": null,
            "max_height": null,
            "max_width": null,
            "min_height": null,
            "min_width": null,
            "object_fit": null,
            "object_position": null,
            "order": null,
            "overflow": null,
            "overflow_x": null,
            "overflow_y": null,
            "padding": null,
            "right": null,
            "top": null,
            "visibility": null,
            "width": null
          }
        },
        "24547ab5f6a448d7b24048ac39ca731b": {
          "model_module": "@jupyter-widgets/controls",
          "model_name": "ProgressStyleModel",
          "state": {
            "_model_module": "@jupyter-widgets/controls",
            "_model_module_version": "1.5.0",
            "_model_name": "ProgressStyleModel",
            "_view_count": null,
            "_view_module": "@jupyter-widgets/base",
            "_view_module_version": "1.2.0",
            "_view_name": "StyleView",
            "bar_color": null,
            "description_width": ""
          }
        },
        "35c8d69026824b5ca33314d212e08879": {
          "model_module": "@jupyter-widgets/base",
          "model_name": "LayoutModel",
          "state": {
            "_model_module": "@jupyter-widgets/base",
            "_model_module_version": "1.2.0",
            "_model_name": "LayoutModel",
            "_view_count": null,
            "_view_module": "@jupyter-widgets/base",
            "_view_module_version": "1.2.0",
            "_view_name": "LayoutView",
            "align_content": null,
            "align_items": null,
            "align_self": null,
            "border": null,
            "bottom": null,
            "display": null,
            "flex": null,
            "flex_flow": null,
            "grid_area": null,
            "grid_auto_columns": null,
            "grid_auto_flow": null,
            "grid_auto_rows": null,
            "grid_column": null,
            "grid_gap": null,
            "grid_row": null,
            "grid_template_areas": null,
            "grid_template_columns": null,
            "grid_template_rows": null,
            "height": null,
            "justify_content": null,
            "justify_items": null,
            "left": null,
            "margin": null,
            "max_height": null,
            "max_width": null,
            "min_height": null,
            "min_width": null,
            "object_fit": null,
            "object_position": null,
            "order": null,
            "overflow": null,
            "overflow_x": null,
            "overflow_y": null,
            "padding": null,
            "right": null,
            "top": null,
            "visibility": null,
            "width": null
          }
        },
        "27f0fab9146e450aa1cede6d960059e8": {
          "model_module": "@jupyter-widgets/controls",
          "model_name": "DescriptionStyleModel",
          "state": {
            "_model_module": "@jupyter-widgets/controls",
            "_model_module_version": "1.5.0",
            "_model_name": "DescriptionStyleModel",
            "_view_count": null,
            "_view_module": "@jupyter-widgets/base",
            "_view_module_version": "1.2.0",
            "_view_name": "StyleView",
            "description_width": ""
          }
        },
        "d6e8aae2ee224103bb7e3802b88a78e1": {
          "model_module": "@jupyter-widgets/base",
          "model_name": "LayoutModel",
          "state": {
            "_model_module": "@jupyter-widgets/base",
            "_model_module_version": "1.2.0",
            "_model_name": "LayoutModel",
            "_view_count": null,
            "_view_module": "@jupyter-widgets/base",
            "_view_module_version": "1.2.0",
            "_view_name": "LayoutView",
            "align_content": null,
            "align_items": null,
            "align_self": null,
            "border": null,
            "bottom": null,
            "display": null,
            "flex": null,
            "flex_flow": null,
            "grid_area": null,
            "grid_auto_columns": null,
            "grid_auto_flow": null,
            "grid_auto_rows": null,
            "grid_column": null,
            "grid_gap": null,
            "grid_row": null,
            "grid_template_areas": null,
            "grid_template_columns": null,
            "grid_template_rows": null,
            "height": null,
            "justify_content": null,
            "justify_items": null,
            "left": null,
            "margin": null,
            "max_height": null,
            "max_width": null,
            "min_height": null,
            "min_width": null,
            "object_fit": null,
            "object_position": null,
            "order": null,
            "overflow": null,
            "overflow_x": null,
            "overflow_y": null,
            "padding": null,
            "right": null,
            "top": null,
            "visibility": null,
            "width": null
          }
        }
      }
    }
  },
  "cells": [
    {
      "cell_type": "markdown",
      "metadata": {
        "id": "view-in-github",
        "colab_type": "text"
      },
      "source": [
        "<a href=\"https://colab.research.google.com/github/daemonkil/OurBus-Data-Scientist-Assignment/blob/main/OurBus_Data_Scientist_Assignment_3_Himanshu_Bansal.ipynb\" target=\"_parent\"><img src=\"https://colab.research.google.com/assets/colab-badge.svg\" alt=\"Open In Colab\"/></a>"
      ]
    },
    {
      "cell_type": "code",
      "metadata": {
        "colab": {
          "base_uri": "https://localhost:8080/"
        },
        "id": "ugCoyHrf0q1L",
        "outputId": "e897b978-6f14-4bda-fa7b-e532d2720184"
      },
      "source": [
        "!pip install pystan==2.19.1.1\n",
        "!pip install prophet"
      ],
      "execution_count": null,
      "outputs": [
        {
          "output_type": "stream",
          "text": [
            "Requirement already satisfied: pystan==2.19.1.1 in /usr/local/lib/python3.7/dist-packages (2.19.1.1)\n",
            "Requirement already satisfied: numpy>=1.7 in /usr/local/lib/python3.7/dist-packages (from pystan==2.19.1.1) (1.19.5)\n",
            "Requirement already satisfied: Cython!=0.25.1,>=0.22 in /usr/local/lib/python3.7/dist-packages (from pystan==2.19.1.1) (0.29.23)\n",
            "Collecting prophet\n",
            "\u001b[?25l  Downloading https://files.pythonhosted.org/packages/f0/fa/c382f0ac5abe9f0a4df9d874a5e8843db035fe2f071b5c00a545b1e3c10b/prophet-1.0.1.tar.gz (65kB)\n",
            "\u001b[K     |████████████████████████████████| 71kB 5.4MB/s \n",
            "\u001b[?25hRequirement already satisfied: Cython>=0.22 in /usr/local/lib/python3.7/dist-packages (from prophet) (0.29.23)\n",
            "Collecting cmdstanpy==0.9.68\n",
            "\u001b[?25l  Downloading https://files.pythonhosted.org/packages/08/b9/b4f0938b38dbe775c4def707f525ab816b9d0215ecd8ab2d76780f4514f8/cmdstanpy-0.9.68-py3-none-any.whl (49kB)\n",
            "\u001b[K     |████████████████████████████████| 51kB 7.0MB/s \n",
            "\u001b[?25hRequirement already satisfied: pystan~=2.19.1.1 in /usr/local/lib/python3.7/dist-packages (from prophet) (2.19.1.1)\n",
            "Requirement already satisfied: numpy>=1.15.4 in /usr/local/lib/python3.7/dist-packages (from prophet) (1.19.5)\n",
            "Requirement already satisfied: pandas>=1.0.4 in /usr/local/lib/python3.7/dist-packages (from prophet) (1.1.5)\n",
            "Requirement already satisfied: matplotlib>=2.0.0 in /usr/local/lib/python3.7/dist-packages (from prophet) (3.2.2)\n",
            "Requirement already satisfied: LunarCalendar>=0.0.9 in /usr/local/lib/python3.7/dist-packages (from prophet) (0.0.9)\n",
            "Requirement already satisfied: convertdate>=2.1.2 in /usr/local/lib/python3.7/dist-packages (from prophet) (2.3.2)\n",
            "Requirement already satisfied: holidays>=0.10.2 in /usr/local/lib/python3.7/dist-packages (from prophet) (0.10.5.2)\n",
            "Requirement already satisfied: setuptools-git>=1.2 in /usr/local/lib/python3.7/dist-packages (from prophet) (1.2)\n",
            "Requirement already satisfied: python-dateutil>=2.8.0 in /usr/local/lib/python3.7/dist-packages (from prophet) (2.8.1)\n",
            "Requirement already satisfied: tqdm>=4.36.1 in /usr/local/lib/python3.7/dist-packages (from prophet) (4.41.1)\n",
            "Collecting ujson\n",
            "\u001b[?25l  Downloading https://files.pythonhosted.org/packages/17/4e/50e8e4cf5f00b537095711c2c86ac4d7191aed2b4fffd5a19f06898f6929/ujson-4.0.2-cp37-cp37m-manylinux1_x86_64.whl (179kB)\n",
            "\u001b[K     |████████████████████████████████| 184kB 12.9MB/s \n",
            "\u001b[?25hRequirement already satisfied: pytz>=2017.2 in /usr/local/lib/python3.7/dist-packages (from pandas>=1.0.4->prophet) (2018.9)\n",
            "Requirement already satisfied: kiwisolver>=1.0.1 in /usr/local/lib/python3.7/dist-packages (from matplotlib>=2.0.0->prophet) (1.3.1)\n",
            "Requirement already satisfied: cycler>=0.10 in /usr/local/lib/python3.7/dist-packages (from matplotlib>=2.0.0->prophet) (0.10.0)\n",
            "Requirement already satisfied: pyparsing!=2.0.4,!=2.1.2,!=2.1.6,>=2.0.1 in /usr/local/lib/python3.7/dist-packages (from matplotlib>=2.0.0->prophet) (2.4.7)\n",
            "Requirement already satisfied: ephem>=3.7.5.3 in /usr/local/lib/python3.7/dist-packages (from LunarCalendar>=0.0.9->prophet) (3.7.7.1)\n",
            "Requirement already satisfied: pymeeus<=1,>=0.3.13 in /usr/local/lib/python3.7/dist-packages (from convertdate>=2.1.2->prophet) (0.5.11)\n",
            "Requirement already satisfied: hijri-converter in /usr/local/lib/python3.7/dist-packages (from holidays>=0.10.2->prophet) (2.1.1)\n",
            "Requirement already satisfied: korean-lunar-calendar in /usr/local/lib/python3.7/dist-packages (from holidays>=0.10.2->prophet) (0.2.1)\n",
            "Requirement already satisfied: six in /usr/local/lib/python3.7/dist-packages (from holidays>=0.10.2->prophet) (1.15.0)\n",
            "Building wheels for collected packages: prophet\n",
            "  Building wheel for prophet (setup.py) ... \u001b[?25l\u001b[?25hdone\n",
            "  Created wheel for prophet: filename=prophet-1.0.1-cp37-none-any.whl size=6639815 sha256=34ab573fd622eceadf239f4995699fc68f85cf9cd92fc1de2998ecf07762c63a\n",
            "  Stored in directory: /root/.cache/pip/wheels/92/1d/02/bc0a91bd3a84e060722075d2b0b68e875e37ec7dc49451d513\n",
            "Successfully built prophet\n",
            "\u001b[31mERROR: fbprophet 0.7.1 has requirement cmdstanpy==0.9.5, but you'll have cmdstanpy 0.9.68 which is incompatible.\u001b[0m\n",
            "Installing collected packages: ujson, cmdstanpy, prophet\n",
            "  Found existing installation: cmdstanpy 0.9.5\n",
            "    Uninstalling cmdstanpy-0.9.5:\n",
            "      Successfully uninstalled cmdstanpy-0.9.5\n",
            "Successfully installed cmdstanpy-0.9.68 prophet-1.0.1 ujson-4.0.2\n"
          ],
          "name": "stdout"
        }
      ]
    },
    {
      "cell_type": "code",
      "metadata": {
        "id": "1BT5kENSHFz4"
      },
      "source": [
        "import pandas as pd\n",
        "from prophet import Prophet\n",
        "import plotly.graph_objects as go"
      ],
      "execution_count": null,
      "outputs": []
    },
    {
      "cell_type": "code",
      "metadata": {
        "colab": {
          "resources": {
            "http://localhost:8080/nbextensions/google.colab/files.js": {
              "data": "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",
              "headers": [
                [
                  "content-type",
                  "application/javascript"
                ]
              ],
              "ok": true,
              "status": 200,
              "status_text": "OK"
            }
          },
          "base_uri": "https://localhost:8080/",
          "height": 81
        },
        "id": "6WrCBGQTHQAI",
        "outputId": "eaafa679-92b1-4930-9211-1bd724276846"
      },
      "source": [
        "from google.colab import files\n",
        "uploaded = files.upload()"
      ],
      "execution_count": null,
      "outputs": [
        {
          "output_type": "display_data",
          "data": {
            "text/html": [
              "\n",
              "     <input type=\"file\" id=\"files-7eca8fee-7869-43f5-a701-2ca2b6b45b47\" name=\"files[]\" multiple disabled\n",
              "        style=\"border:none\" />\n",
              "     <output id=\"result-7eca8fee-7869-43f5-a701-2ca2b6b45b47\">\n",
              "      Upload widget is only available when the cell has been executed in the\n",
              "      current browser session. Please rerun this cell to enable.\n",
              "      </output>\n",
              "      <script src=\"/nbextensions/google.colab/files.js\"></script> "
            ],
            "text/plain": [
              "<IPython.core.display.HTML object>"
            ]
          },
          "metadata": {
            "tags": []
          }
        },
        {
          "output_type": "stream",
          "text": [
            "Saving Data Scientist Interview Assignment.xlsx to Data Scientist Interview Assignment (1).xlsx\n"
          ],
          "name": "stdout"
        }
      ]
    },
    {
      "cell_type": "code",
      "metadata": {
        "id": "59ZW4wpYHejg"
      },
      "source": [
        "import io\n",
        "df = pd.read_excel(io.BytesIO(uploaded['Data Scientist Interview Assignment.xlsx']))"
      ],
      "execution_count": null,
      "outputs": []
    },
    {
      "cell_type": "code",
      "metadata": {
        "id": "4GQva3n1HqXY"
      },
      "source": [
        "data = df"
      ],
      "execution_count": null,
      "outputs": []
    },
    {
      "cell_type": "code",
      "metadata": {
        "colab": {
          "base_uri": "https://localhost:8080/"
        },
        "id": "x6t84RjJHu2J",
        "outputId": "54cdd590-cba9-4190-cfa5-57bcd8f566ef"
      },
      "source": [
        "data.isna().sum()"
      ],
      "execution_count": null,
      "outputs": [
        {
          "output_type": "execute_result",
          "data": {
            "text/plain": [
              "order_no               0\n",
              "discount_amount        0\n",
              "adults                 0\n",
              "booking_fee            0\n",
              "paid_from_wallet       0\n",
              "order_time             0\n",
              "source                 0\n",
              "isRelease              0\n",
              "trip_type              0\n",
              "leg_name               0\n",
              "commission             0\n",
              "departure_time         0\n",
              "bf_discount            0\n",
              "trip_id                0\n",
              "isCancel               0\n",
              "net_revenue            0\n",
              "base_id                0\n",
              "travel_date            0\n",
              "ff_discount            0\n",
              "facility_fee           0\n",
              "amount_in_usd          0\n",
              "voucher_consumption    0\n",
              "paid_from_card         0\n",
              "pick_stop              0\n",
              "dtype: int64"
            ]
          },
          "metadata": {
            "tags": []
          },
          "execution_count": 5
        }
      ]
    },
    {
      "cell_type": "code",
      "metadata": {
        "id": "_d6LsHvmIERj"
      },
      "source": [
        "data = data.drop([\"pick_stop\",\"leg_name\",\"trip_type\",\"isRelease\",\"booking_fee\",\"commission\",\"bf_discount\",\"isCancel\",\n",
        "                  \"ff_discount\",\"voucher_consumption\"], axis=1)"
      ],
      "execution_count": null,
      "outputs": []
    },
    {
      "cell_type": "code",
      "metadata": {
        "id": "MXN96mGHIIhl"
      },
      "source": [
        "# Using Time Series\n",
        "data[\"total_revenue\"] = data[\"adults\"]*data[\"amount_in_usd\"]"
      ],
      "execution_count": null,
      "outputs": []
    },
    {
      "cell_type": "code",
      "metadata": {
        "id": "53DhmsiQJOUF"
      },
      "source": [
        "data[\"date\"] = [d.date() for d in df['order_time']]"
      ],
      "execution_count": null,
      "outputs": []
    },
    {
      "cell_type": "code",
      "metadata": {
        "id": "k_2mzmO7KPOf"
      },
      "source": [
        "prophet_per_day = data.groupby([\"date\"], as_index=False)[\"total_revenue\"].sum()\n",
        "prophet_per_day.columns = [\"ds\",\"y\"]"
      ],
      "execution_count": null,
      "outputs": []
    },
    {
      "cell_type": "code",
      "metadata": {
        "id": "Ho-Caey8ILTE"
      },
      "source": [
        ""
      ],
      "execution_count": null,
      "outputs": []
    },
    {
      "cell_type": "code",
      "metadata": {
        "id": "ttFJwHUNINIK"
      },
      "source": [
        ""
      ],
      "execution_count": null,
      "outputs": []
    },
    {
      "cell_type": "code",
      "metadata": {
        "id": "d4jYIuJZIOsw"
      },
      "source": [
        ""
      ],
      "execution_count": null,
      "outputs": []
    },
    {
      "cell_type": "code",
      "metadata": {
        "colab": {
          "base_uri": "https://localhost:8080/",
          "height": 542
        },
        "id": "546IRhwhIQOE",
        "outputId": "befb1e98-a873-4f84-91f6-b16d8f7bbbc9"
      },
      "source": [
        "fig = go.Figure()\n",
        "fig.add_trace(go.Scatter(x=prophet_per_day[\"ds\"], y=prophet_per_day[\"y\"],\n",
        "                    mode='lines+markers',\n",
        "                    name='lineplot'))\n",
        "fig.show()\n"
      ],
      "execution_count": null,
      "outputs": [
        {
          "output_type": "display_data",
          "data": {
            "text/html": [
              "<html>\n",
              "<head><meta charset=\"utf-8\" /></head>\n",
              "<body>\n",
              "    <div>\n",
              "            <script src=\"https://cdnjs.cloudflare.com/ajax/libs/mathjax/2.7.5/MathJax.js?config=TeX-AMS-MML_SVG\"></script><script type=\"text/javascript\">if (window.MathJax) {MathJax.Hub.Config({SVG: {font: \"STIX-Web\"}});}</script>\n",
              "                <script type=\"text/javascript\">window.PlotlyConfig = {MathJaxConfig: 'local'};</script>\n",
              "        <script src=\"https://cdn.plot.ly/plotly-latest.min.js\"></script>    \n",
              "            <div id=\"ec394118-9835-4e8b-95fb-2b4eed984db6\" class=\"plotly-graph-div\" style=\"height:525px; width:100%;\"></div>\n",
              "            <script type=\"text/javascript\">\n",
              "                \n",
              "                    window.PLOTLYENV=window.PLOTLYENV || {};\n",
              "                    \n",
              "                if (document.getElementById(\"ec394118-9835-4e8b-95fb-2b4eed984db6\")) {\n",
              "                    Plotly.newPlot(\n",
              "                        'ec394118-9835-4e8b-95fb-2b4eed984db6',\n",
              "                        [{\"mode\": \"lines+markers\", \"name\": \"lineplot\", \"type\": \"scatter\", \"x\": [\"2019-09-25\", \"2019-09-26\", \"2019-09-27\", \"2019-09-28\", \"2019-09-29\"], \"y\": [1200.25, 1000.5, 603.5, 20.5, 194.5]}],\n",
              "                        {\"template\": {\"data\": {\"bar\": [{\"error_x\": {\"color\": \"#2a3f5f\"}, \"error_y\": {\"color\": \"#2a3f5f\"}, \"marker\": {\"line\": {\"color\": \"#E5ECF6\", \"width\": 0.5}}, \"type\": \"bar\"}], \"barpolar\": [{\"marker\": {\"line\": {\"color\": \"#E5ECF6\", \"width\": 0.5}}, \"type\": \"barpolar\"}], \"carpet\": [{\"aaxis\": {\"endlinecolor\": \"#2a3f5f\", \"gridcolor\": \"white\", \"linecolor\": \"white\", \"minorgridcolor\": \"white\", \"startlinecolor\": \"#2a3f5f\"}, \"baxis\": {\"endlinecolor\": \"#2a3f5f\", \"gridcolor\": \"white\", \"linecolor\": \"white\", \"minorgridcolor\": \"white\", \"startlinecolor\": \"#2a3f5f\"}, \"type\": \"carpet\"}], \"choropleth\": [{\"colorbar\": {\"outlinewidth\": 0, \"ticks\": \"\"}, \"type\": \"choropleth\"}], \"contour\": [{\"colorbar\": {\"outlinewidth\": 0, \"ticks\": \"\"}, \"colorscale\": [[0.0, \"#0d0887\"], [0.1111111111111111, \"#46039f\"], [0.2222222222222222, \"#7201a8\"], [0.3333333333333333, \"#9c179e\"], [0.4444444444444444, \"#bd3786\"], [0.5555555555555556, \"#d8576b\"], [0.6666666666666666, \"#ed7953\"], [0.7777777777777778, \"#fb9f3a\"], [0.8888888888888888, \"#fdca26\"], [1.0, \"#f0f921\"]], \"type\": \"contour\"}], \"contourcarpet\": [{\"colorbar\": {\"outlinewidth\": 0, \"ticks\": \"\"}, \"type\": \"contourcarpet\"}], \"heatmap\": [{\"colorbar\": {\"outlinewidth\": 0, \"ticks\": \"\"}, \"colorscale\": [[0.0, \"#0d0887\"], [0.1111111111111111, \"#46039f\"], [0.2222222222222222, \"#7201a8\"], [0.3333333333333333, \"#9c179e\"], [0.4444444444444444, \"#bd3786\"], [0.5555555555555556, \"#d8576b\"], [0.6666666666666666, \"#ed7953\"], [0.7777777777777778, \"#fb9f3a\"], [0.8888888888888888, \"#fdca26\"], [1.0, \"#f0f921\"]], \"type\": \"heatmap\"}], \"heatmapgl\": [{\"colorbar\": {\"outlinewidth\": 0, \"ticks\": \"\"}, \"colorscale\": [[0.0, \"#0d0887\"], [0.1111111111111111, \"#46039f\"], [0.2222222222222222, \"#7201a8\"], [0.3333333333333333, \"#9c179e\"], [0.4444444444444444, \"#bd3786\"], [0.5555555555555556, \"#d8576b\"], [0.6666666666666666, \"#ed7953\"], [0.7777777777777778, \"#fb9f3a\"], [0.8888888888888888, \"#fdca26\"], [1.0, \"#f0f921\"]], \"type\": \"heatmapgl\"}], \"histogram\": [{\"marker\": {\"colorbar\": {\"outlinewidth\": 0, \"ticks\": \"\"}}, \"type\": \"histogram\"}], \"histogram2d\": [{\"colorbar\": {\"outlinewidth\": 0, \"ticks\": \"\"}, \"colorscale\": [[0.0, \"#0d0887\"], [0.1111111111111111, \"#46039f\"], [0.2222222222222222, \"#7201a8\"], [0.3333333333333333, \"#9c179e\"], [0.4444444444444444, \"#bd3786\"], [0.5555555555555556, \"#d8576b\"], [0.6666666666666666, \"#ed7953\"], [0.7777777777777778, \"#fb9f3a\"], [0.8888888888888888, \"#fdca26\"], [1.0, \"#f0f921\"]], \"type\": \"histogram2d\"}], \"histogram2dcontour\": [{\"colorbar\": {\"outlinewidth\": 0, \"ticks\": \"\"}, \"colorscale\": [[0.0, \"#0d0887\"], [0.1111111111111111, \"#46039f\"], [0.2222222222222222, \"#7201a8\"], [0.3333333333333333, \"#9c179e\"], [0.4444444444444444, \"#bd3786\"], [0.5555555555555556, \"#d8576b\"], [0.6666666666666666, \"#ed7953\"], [0.7777777777777778, \"#fb9f3a\"], [0.8888888888888888, \"#fdca26\"], [1.0, \"#f0f921\"]], \"type\": \"histogram2dcontour\"}], \"mesh3d\": [{\"colorbar\": {\"outlinewidth\": 0, \"ticks\": \"\"}, \"type\": \"mesh3d\"}], \"parcoords\": [{\"line\": {\"colorbar\": {\"outlinewidth\": 0, \"ticks\": \"\"}}, \"type\": \"parcoords\"}], \"pie\": [{\"automargin\": true, \"type\": \"pie\"}], \"scatter\": [{\"marker\": {\"colorbar\": {\"outlinewidth\": 0, \"ticks\": \"\"}}, \"type\": \"scatter\"}], \"scatter3d\": [{\"line\": {\"colorbar\": {\"outlinewidth\": 0, \"ticks\": \"\"}}, \"marker\": {\"colorbar\": {\"outlinewidth\": 0, \"ticks\": \"\"}}, \"type\": \"scatter3d\"}], \"scattercarpet\": [{\"marker\": {\"colorbar\": {\"outlinewidth\": 0, \"ticks\": \"\"}}, \"type\": \"scattercarpet\"}], \"scattergeo\": [{\"marker\": {\"colorbar\": {\"outlinewidth\": 0, \"ticks\": \"\"}}, \"type\": \"scattergeo\"}], \"scattergl\": [{\"marker\": {\"colorbar\": {\"outlinewidth\": 0, \"ticks\": \"\"}}, \"type\": \"scattergl\"}], \"scattermapbox\": [{\"marker\": {\"colorbar\": {\"outlinewidth\": 0, \"ticks\": \"\"}}, \"type\": \"scattermapbox\"}], \"scatterpolar\": [{\"marker\": {\"colorbar\": {\"outlinewidth\": 0, \"ticks\": \"\"}}, \"type\": \"scatterpolar\"}], \"scatterpolargl\": [{\"marker\": {\"colorbar\": {\"outlinewidth\": 0, \"ticks\": \"\"}}, \"type\": \"scatterpolargl\"}], \"scatterternary\": [{\"marker\": {\"colorbar\": {\"outlinewidth\": 0, \"ticks\": \"\"}}, \"type\": \"scatterternary\"}], \"surface\": [{\"colorbar\": {\"outlinewidth\": 0, \"ticks\": \"\"}, \"colorscale\": [[0.0, \"#0d0887\"], [0.1111111111111111, \"#46039f\"], [0.2222222222222222, \"#7201a8\"], [0.3333333333333333, \"#9c179e\"], [0.4444444444444444, \"#bd3786\"], [0.5555555555555556, \"#d8576b\"], [0.6666666666666666, \"#ed7953\"], [0.7777777777777778, \"#fb9f3a\"], [0.8888888888888888, \"#fdca26\"], [1.0, \"#f0f921\"]], \"type\": \"surface\"}], \"table\": [{\"cells\": {\"fill\": {\"color\": \"#EBF0F8\"}, \"line\": {\"color\": \"white\"}}, \"header\": {\"fill\": {\"color\": \"#C8D4E3\"}, \"line\": {\"color\": \"white\"}}, \"type\": \"table\"}]}, \"layout\": {\"annotationdefaults\": {\"arrowcolor\": \"#2a3f5f\", \"arrowhead\": 0, \"arrowwidth\": 1}, \"coloraxis\": {\"colorbar\": {\"outlinewidth\": 0, \"ticks\": \"\"}}, \"colorscale\": {\"diverging\": [[0, \"#8e0152\"], [0.1, \"#c51b7d\"], [0.2, \"#de77ae\"], [0.3, \"#f1b6da\"], [0.4, \"#fde0ef\"], [0.5, \"#f7f7f7\"], [0.6, \"#e6f5d0\"], [0.7, \"#b8e186\"], [0.8, \"#7fbc41\"], [0.9, \"#4d9221\"], [1, \"#276419\"]], \"sequential\": [[0.0, \"#0d0887\"], [0.1111111111111111, \"#46039f\"], [0.2222222222222222, \"#7201a8\"], [0.3333333333333333, \"#9c179e\"], [0.4444444444444444, \"#bd3786\"], [0.5555555555555556, \"#d8576b\"], [0.6666666666666666, \"#ed7953\"], [0.7777777777777778, \"#fb9f3a\"], [0.8888888888888888, \"#fdca26\"], [1.0, \"#f0f921\"]], \"sequentialminus\": [[0.0, \"#0d0887\"], [0.1111111111111111, \"#46039f\"], [0.2222222222222222, \"#7201a8\"], [0.3333333333333333, \"#9c179e\"], [0.4444444444444444, \"#bd3786\"], [0.5555555555555556, \"#d8576b\"], [0.6666666666666666, \"#ed7953\"], [0.7777777777777778, \"#fb9f3a\"], [0.8888888888888888, \"#fdca26\"], [1.0, \"#f0f921\"]]}, \"colorway\": [\"#636efa\", \"#EF553B\", \"#00cc96\", \"#ab63fa\", \"#FFA15A\", \"#19d3f3\", \"#FF6692\", \"#B6E880\", \"#FF97FF\", \"#FECB52\"], \"font\": {\"color\": \"#2a3f5f\"}, \"geo\": {\"bgcolor\": \"white\", \"lakecolor\": \"white\", \"landcolor\": \"#E5ECF6\", \"showlakes\": true, \"showland\": true, \"subunitcolor\": \"white\"}, \"hoverlabel\": {\"align\": \"left\"}, \"hovermode\": \"closest\", \"mapbox\": {\"style\": \"light\"}, \"paper_bgcolor\": \"white\", \"plot_bgcolor\": \"#E5ECF6\", \"polar\": {\"angularaxis\": {\"gridcolor\": \"white\", \"linecolor\": \"white\", \"ticks\": \"\"}, \"bgcolor\": \"#E5ECF6\", \"radialaxis\": {\"gridcolor\": \"white\", \"linecolor\": \"white\", \"ticks\": \"\"}}, \"scene\": {\"xaxis\": {\"backgroundcolor\": \"#E5ECF6\", \"gridcolor\": \"white\", \"gridwidth\": 2, \"linecolor\": \"white\", \"showbackground\": true, \"ticks\": \"\", \"zerolinecolor\": \"white\"}, \"yaxis\": {\"backgroundcolor\": \"#E5ECF6\", \"gridcolor\": \"white\", \"gridwidth\": 2, \"linecolor\": \"white\", \"showbackground\": true, \"ticks\": \"\", \"zerolinecolor\": \"white\"}, \"zaxis\": {\"backgroundcolor\": \"#E5ECF6\", \"gridcolor\": \"white\", \"gridwidth\": 2, \"linecolor\": \"white\", \"showbackground\": true, \"ticks\": \"\", \"zerolinecolor\": \"white\"}}, \"shapedefaults\": {\"line\": {\"color\": \"#2a3f5f\"}}, \"ternary\": {\"aaxis\": {\"gridcolor\": \"white\", \"linecolor\": \"white\", \"ticks\": \"\"}, \"baxis\": {\"gridcolor\": \"white\", \"linecolor\": \"white\", \"ticks\": \"\"}, \"bgcolor\": \"#E5ECF6\", \"caxis\": {\"gridcolor\": \"white\", \"linecolor\": \"white\", \"ticks\": \"\"}}, \"title\": {\"x\": 0.05}, \"xaxis\": {\"automargin\": true, \"gridcolor\": \"white\", \"linecolor\": \"white\", \"ticks\": \"\", \"title\": {\"standoff\": 15}, \"zerolinecolor\": \"white\", \"zerolinewidth\": 2}, \"yaxis\": {\"automargin\": true, \"gridcolor\": \"white\", \"linecolor\": \"white\", \"ticks\": \"\", \"title\": {\"standoff\": 15}, \"zerolinecolor\": \"white\", \"zerolinewidth\": 2}}}},\n",
              "                        {\"responsive\": true}\n",
              "                    ).then(function(){\n",
              "                            \n",
              "var gd = document.getElementById('ec394118-9835-4e8b-95fb-2b4eed984db6');\n",
              "var x = new MutationObserver(function (mutations, observer) {{\n",
              "        var display = window.getComputedStyle(gd).display;\n",
              "        if (!display || display === 'none') {{\n",
              "            console.log([gd, 'removed!']);\n",
              "            Plotly.purge(gd);\n",
              "            observer.disconnect();\n",
              "        }}\n",
              "}});\n",
              "\n",
              "// Listen for the removal of the full notebook cells\n",
              "var notebookContainer = gd.closest('#notebook-container');\n",
              "if (notebookContainer) {{\n",
              "    x.observe(notebookContainer, {childList: true});\n",
              "}}\n",
              "\n",
              "// Listen for the clearing of the current output cell\n",
              "var outputEl = gd.closest('.output');\n",
              "if (outputEl) {{\n",
              "    x.observe(outputEl, {childList: true});\n",
              "}}\n",
              "\n",
              "                        })\n",
              "                };\n",
              "                \n",
              "            </script>\n",
              "        </div>\n",
              "</body>\n",
              "</html>"
            ]
          },
          "metadata": {
            "tags": []
          }
        }
      ]
    },
    {
      "cell_type": "code",
      "metadata": {
        "colab": {
          "base_uri": "https://localhost:8080/",
          "height": 206
        },
        "id": "CjztQcrKMph6",
        "outputId": "4cde2078-b0bd-437c-8be6-ef8068727ebe"
      },
      "source": [
        "prophet_per_day"
      ],
      "execution_count": null,
      "outputs": [
        {
          "output_type": "execute_result",
          "data": {
            "text/html": [
              "<div>\n",
              "<style scoped>\n",
              "    .dataframe tbody tr th:only-of-type {\n",
              "        vertical-align: middle;\n",
              "    }\n",
              "\n",
              "    .dataframe tbody tr th {\n",
              "        vertical-align: top;\n",
              "    }\n",
              "\n",
              "    .dataframe thead th {\n",
              "        text-align: right;\n",
              "    }\n",
              "</style>\n",
              "<table border=\"1\" class=\"dataframe\">\n",
              "  <thead>\n",
              "    <tr style=\"text-align: right;\">\n",
              "      <th></th>\n",
              "      <th>ds</th>\n",
              "      <th>y</th>\n",
              "    </tr>\n",
              "  </thead>\n",
              "  <tbody>\n",
              "    <tr>\n",
              "      <th>0</th>\n",
              "      <td>2019-09-25</td>\n",
              "      <td>1200.25</td>\n",
              "    </tr>\n",
              "    <tr>\n",
              "      <th>1</th>\n",
              "      <td>2019-09-26</td>\n",
              "      <td>1000.50</td>\n",
              "    </tr>\n",
              "    <tr>\n",
              "      <th>2</th>\n",
              "      <td>2019-09-27</td>\n",
              "      <td>603.50</td>\n",
              "    </tr>\n",
              "    <tr>\n",
              "      <th>3</th>\n",
              "      <td>2019-09-28</td>\n",
              "      <td>20.50</td>\n",
              "    </tr>\n",
              "    <tr>\n",
              "      <th>4</th>\n",
              "      <td>2019-09-29</td>\n",
              "      <td>194.50</td>\n",
              "    </tr>\n",
              "  </tbody>\n",
              "</table>\n",
              "</div>"
            ],
            "text/plain": [
              "           ds        y\n",
              "0  2019-09-25  1200.25\n",
              "1  2019-09-26  1000.50\n",
              "2  2019-09-27   603.50\n",
              "3  2019-09-28    20.50\n",
              "4  2019-09-29   194.50"
            ]
          },
          "metadata": {
            "tags": []
          },
          "execution_count": 11
        }
      ]
    },
    {
      "cell_type": "code",
      "metadata": {
        "colab": {
          "base_uri": "https://localhost:8080/",
          "height": 700
        },
        "id": "sy1TfroYIRnj",
        "outputId": "35f9a061-283a-4ccd-dbae-bd0e48415d56"
      },
      "source": [
        "# Forecasting by prophet\n",
        "prophet_per_day['floor'] = 20\n",
        "prophet_per_day['cap'] = 1500\n",
        "m = Prophet(growth='logistic')\n",
        "m.fit(prophet_per_day)\n",
        "\n",
        "future = m.make_future_dataframe(periods=10)\n",
        "future['floor'] = 20\n",
        "future['cap'] = 1500\n",
        "fcst = m.predict(future)\n",
        "fig = m.plot(fcst)\n",
        "future.tail()"
      ],
      "execution_count": null,
      "outputs": [
        {
          "output_type": "stream",
          "text": [
            "INFO:fbprophet:Disabling yearly seasonality. Run prophet with yearly_seasonality=True to override this.\n",
            "INFO:fbprophet:Disabling weekly seasonality. Run prophet with weekly_seasonality=True to override this.\n",
            "INFO:fbprophet:Disabling daily seasonality. Run prophet with daily_seasonality=True to override this.\n",
            "INFO:fbprophet:n_changepoints greater than number of observations. Using 3.\n"
          ],
          "name": "stderr"
        },
        {
          "output_type": "execute_result",
          "data": {
            "text/html": [
              "<div>\n",
              "<style scoped>\n",
              "    .dataframe tbody tr th:only-of-type {\n",
              "        vertical-align: middle;\n",
              "    }\n",
              "\n",
              "    .dataframe tbody tr th {\n",
              "        vertical-align: top;\n",
              "    }\n",
              "\n",
              "    .dataframe thead th {\n",
              "        text-align: right;\n",
              "    }\n",
              "</style>\n",
              "<table border=\"1\" class=\"dataframe\">\n",
              "  <thead>\n",
              "    <tr style=\"text-align: right;\">\n",
              "      <th></th>\n",
              "      <th>ds</th>\n",
              "      <th>floor</th>\n",
              "      <th>cap</th>\n",
              "    </tr>\n",
              "  </thead>\n",
              "  <tbody>\n",
              "    <tr>\n",
              "      <th>10</th>\n",
              "      <td>2019-10-05</td>\n",
              "      <td>20</td>\n",
              "      <td>1500</td>\n",
              "    </tr>\n",
              "    <tr>\n",
              "      <th>11</th>\n",
              "      <td>2019-10-06</td>\n",
              "      <td>20</td>\n",
              "      <td>1500</td>\n",
              "    </tr>\n",
              "    <tr>\n",
              "      <th>12</th>\n",
              "      <td>2019-10-07</td>\n",
              "      <td>20</td>\n",
              "      <td>1500</td>\n",
              "    </tr>\n",
              "    <tr>\n",
              "      <th>13</th>\n",
              "      <td>2019-10-08</td>\n",
              "      <td>20</td>\n",
              "      <td>1500</td>\n",
              "    </tr>\n",
              "    <tr>\n",
              "      <th>14</th>\n",
              "      <td>2019-10-09</td>\n",
              "      <td>20</td>\n",
              "      <td>1500</td>\n",
              "    </tr>\n",
              "  </tbody>\n",
              "</table>\n",
              "</div>"
            ],
            "text/plain": [
              "           ds  floor   cap\n",
              "10 2019-10-05     20  1500\n",
              "11 2019-10-06     20  1500\n",
              "12 2019-10-07     20  1500\n",
              "13 2019-10-08     20  1500\n",
              "14 2019-10-09     20  1500"
            ]
          },
          "metadata": {
            "tags": []
          },
          "execution_count": 12
        },
        {
          "output_type": "display_data",
          "data": {
            "image/png": "[encoded data removed]",
            "text/plain": [
              "<Figure size 720x432 with 1 Axes>"
            ]
          },
          "metadata": {
            "tags": []
          }
        }
      ]
    },
    {
      "cell_type": "markdown",
      "metadata": {
        "id": "-0UpP8ynWfSt"
      },
      "source": [
        "Summary, due to less data available, prophet gives unsatisfied forecastings."
      ]
    },
    {
      "cell_type": "code",
      "metadata": {
        "id": "iDuO0ePRI1QB"
      },
      "source": [
        ""
      ],
      "execution_count": null,
      "outputs": []
    },
    {
      "cell_type": "code",
      "metadata": {
        "id": "ocf8jDEpYkvk"
      },
      "source": [
        ""
      ],
      "execution_count": null,
      "outputs": []
    },
    {
      "cell_type": "markdown",
      "metadata": {
        "id": "k3Y8B7D_YWOI"
      },
      "source": [
        "**Neural Prophet**"
      ]
    },
    {
      "cell_type": "code",
      "metadata": {
        "colab": {
          "base_uri": "https://localhost:8080/"
        },
        "id": "AVBinydbYm6E",
        "outputId": "684f406e-a973-4641-ff6e-ddf1e3dbd82e"
      },
      "source": [
        "pip install neuralprophet"
      ],
      "execution_count": null,
      "outputs": [
        {
          "output_type": "stream",
          "text": [
            "Collecting neuralprophet\n",
            "  Using cached https://files.pythonhosted.org/packages/20/52/1e00f0713b9e0e040f38834e94b6f3c3dd55b7f291e77664f27eb670abb6/neuralprophet-0.2.7-py3-none-any.whl\n",
            "Requirement already satisfied: LunarCalendar>=0.0.9 in /usr/local/lib/python3.7/dist-packages (from neuralprophet) (0.0.9)\n",
            "Requirement already satisfied: holidays>=0.10.2 in /usr/local/lib/python3.7/dist-packages (from neuralprophet) (0.10.5.2)\n",
            "Requirement already satisfied: matplotlib>=2.0.0 in /usr/local/lib/python3.7/dist-packages (from neuralprophet) (3.2.2)\n",
            "Requirement already satisfied: python-dateutil>=2.8.0 in /usr/local/lib/python3.7/dist-packages (from neuralprophet) (2.8.1)\n",
            "Requirement already satisfied: numpy>=1.15.4 in /usr/local/lib/python3.7/dist-packages (from neuralprophet) (1.19.5)\n",
            "Requirement already satisfied: pandas>=1.0.4 in /usr/local/lib/python3.7/dist-packages (from neuralprophet) (1.1.5)\n",
            "Collecting torch<1.7.0,>=1.4.0\n",
            "  Using cached https://files.pythonhosted.org/packages/5d/5e/35140615fc1f925023f489e71086a9ecc188053d263d3594237281284d82/torch-1.6.0-cp37-cp37m-manylinux1_x86_64.whl\n",
            "Requirement already satisfied: tqdm>=4.50.2 in /usr/local/lib/python3.7/dist-packages (from neuralprophet) (4.59.0)\n",
            "Requirement already satisfied: attrdict>=2.0.1 in /usr/local/lib/python3.7/dist-packages (from neuralprophet) (2.0.1)\n",
            "Requirement already satisfied: ipywidgets>=7.5.1 in /usr/local/lib/python3.7/dist-packages (from neuralprophet) (7.6.3)\n",
            "Collecting torch-lr-finder>=0.2.1\n",
            "  Using cached https://files.pythonhosted.org/packages/ea/51/1a869067989a0fdaf18e49f0ee3aebfcb63470525245aac7dc390cfc676a/torch_lr_finder-0.2.1-py3-none-any.whl\n",
            "Requirement already satisfied: convertdate>=2.1.2 in /usr/local/lib/python3.7/dist-packages (from neuralprophet) (2.3.1)\n",
            "Requirement already satisfied: ephem>=3.7.5.3 in /usr/local/lib/python3.7/dist-packages (from LunarCalendar>=0.0.9->neuralprophet) (3.7.7.1)\n",
            "Requirement already satisfied: pytz in /usr/local/lib/python3.7/dist-packages (from LunarCalendar>=0.0.9->neuralprophet) (2018.9)\n",
            "Requirement already satisfied: hijri-converter in /usr/local/lib/python3.7/dist-packages (from holidays>=0.10.2->neuralprophet) (2.1.1)\n",
            "Requirement already satisfied: six in /usr/local/lib/python3.7/dist-packages (from holidays>=0.10.2->neuralprophet) (1.15.0)\n",
            "Requirement already satisfied: korean-lunar-calendar in /usr/local/lib/python3.7/dist-packages (from holidays>=0.10.2->neuralprophet) (0.2.1)\n",
            "Requirement already satisfied: kiwisolver>=1.0.1 in /usr/local/lib/python3.7/dist-packages (from matplotlib>=2.0.0->neuralprophet) (1.3.1)\n",
            "Requirement already satisfied: pyparsing!=2.0.4,!=2.1.2,!=2.1.6,>=2.0.1 in /usr/local/lib/python3.7/dist-packages (from matplotlib>=2.0.0->neuralprophet) (2.4.7)\n",
            "Requirement already satisfied: cycler>=0.10 in /usr/local/lib/python3.7/dist-packages (from matplotlib>=2.0.0->neuralprophet) (0.10.0)\n",
            "Requirement already satisfied: future in /usr/local/lib/python3.7/dist-packages (from torch<1.7.0,>=1.4.0->neuralprophet) (0.16.0)\n",
            "Requirement already satisfied: traitlets>=4.3.1 in /usr/local/lib/python3.7/dist-packages (from ipywidgets>=7.5.1->neuralprophet) (5.0.5)\n",
            "Requirement already satisfied: jupyterlab-widgets>=1.0.0; python_version >= \"3.6\" in /usr/local/lib/python3.7/dist-packages (from ipywidgets>=7.5.1->neuralprophet) (1.0.0)\n",
            "Requirement already satisfied: ipykernel>=4.5.1 in /usr/local/lib/python3.7/dist-packages (from ipywidgets>=7.5.1->neuralprophet) (4.10.1)\n",
            "Requirement already satisfied: nbformat>=4.2.0 in /usr/local/lib/python3.7/dist-packages (from ipywidgets>=7.5.1->neuralprophet) (5.1.2)\n",
            "Requirement already satisfied: widgetsnbextension~=3.5.0 in /usr/local/lib/python3.7/dist-packages (from ipywidgets>=7.5.1->neuralprophet) (3.5.1)\n",
            "Requirement already satisfied: ipython>=4.0.0; python_version >= \"3.3\" in /usr/local/lib/python3.7/dist-packages (from ipywidgets>=7.5.1->neuralprophet) (5.5.0)\n",
            "Requirement already satisfied: packaging in /usr/local/lib/python3.7/dist-packages (from torch-lr-finder>=0.2.1->neuralprophet) (20.9)\n",
            "Requirement already satisfied: pymeeus!=0.3.8,<=1,>=0.3.6 in /usr/local/lib/python3.7/dist-packages (from convertdate>=2.1.2->neuralprophet) (0.5.9)\n",
            "Requirement already satisfied: ipython-genutils in /usr/local/lib/python3.7/dist-packages (from traitlets>=4.3.1->ipywidgets>=7.5.1->neuralprophet) (0.2.0)\n",
            "Requirement already satisfied: jupyter-client in /usr/local/lib/python3.7/dist-packages (from ipykernel>=4.5.1->ipywidgets>=7.5.1->neuralprophet) (5.3.5)\n",
            "Requirement already satisfied: tornado>=4.0 in /usr/local/lib/python3.7/dist-packages (from ipykernel>=4.5.1->ipywidgets>=7.5.1->neuralprophet) (5.1.1)\n",
            "Requirement already satisfied: jsonschema!=2.5.0,>=2.4 in /usr/local/lib/python3.7/dist-packages (from nbformat>=4.2.0->ipywidgets>=7.5.1->neuralprophet) (2.6.0)\n",
            "Requirement already satisfied: jupyter-core in /usr/local/lib/python3.7/dist-packages (from nbformat>=4.2.0->ipywidgets>=7.5.1->neuralprophet) (4.7.1)\n",
            "Requirement already satisfied: notebook>=4.4.1 in /usr/local/lib/python3.7/dist-packages (from widgetsnbextension~=3.5.0->ipywidgets>=7.5.1->neuralprophet) (5.3.1)\n",
            "Requirement already satisfied: setuptools>=18.5 in /usr/local/lib/python3.7/dist-packages (from ipython>=4.0.0; python_version >= \"3.3\"->ipywidgets>=7.5.1->neuralprophet) (54.0.0)\n",
            "Requirement already satisfied: prompt-toolkit<2.0.0,>=1.0.4 in /usr/local/lib/python3.7/dist-packages (from ipython>=4.0.0; python_version >= \"3.3\"->ipywidgets>=7.5.1->neuralprophet) (1.0.18)\n",
            "Requirement already satisfied: pygments in /usr/local/lib/python3.7/dist-packages (from ipython>=4.0.0; python_version >= \"3.3\"->ipywidgets>=7.5.1->neuralprophet) (2.6.1)\n",
            "Requirement already satisfied: pexpect; sys_platform != \"win32\" in /usr/local/lib/python3.7/dist-packages (from ipython>=4.0.0; python_version >= \"3.3\"->ipywidgets>=7.5.1->neuralprophet) (4.8.0)\n",
            "Requirement already satisfied: decorator in /usr/local/lib/python3.7/dist-packages (from ipython>=4.0.0; python_version >= \"3.3\"->ipywidgets>=7.5.1->neuralprophet) (4.4.2)\n",
            "Requirement already satisfied: simplegeneric>0.8 in /usr/local/lib/python3.7/dist-packages (from ipython>=4.0.0; python_version >= \"3.3\"->ipywidgets>=7.5.1->neuralprophet) (0.8.1)\n",
            "Requirement already satisfied: pickleshare in /usr/local/lib/python3.7/dist-packages (from ipython>=4.0.0; python_version >= \"3.3\"->ipywidgets>=7.5.1->neuralprophet) (0.7.5)\n",
            "Requirement already satisfied: pyzmq>=13 in /usr/local/lib/python3.7/dist-packages (from jupyter-client->ipykernel>=4.5.1->ipywidgets>=7.5.1->neuralprophet) (22.0.3)\n",
            "Requirement already satisfied: Send2Trash in /usr/local/lib/python3.7/dist-packages (from notebook>=4.4.1->widgetsnbextension~=3.5.0->ipywidgets>=7.5.1->neuralprophet) (1.5.0)\n",
            "Requirement already satisfied: nbconvert in /usr/local/lib/python3.7/dist-packages (from notebook>=4.4.1->widgetsnbextension~=3.5.0->ipywidgets>=7.5.1->neuralprophet) (5.6.1)\n",
            "Requirement already satisfied: jinja2 in /usr/local/lib/python3.7/dist-packages (from notebook>=4.4.1->widgetsnbextension~=3.5.0->ipywidgets>=7.5.1->neuralprophet) (2.11.3)\n",
            "Requirement already satisfied: terminado>=0.8.1 in /usr/local/lib/python3.7/dist-packages (from notebook>=4.4.1->widgetsnbextension~=3.5.0->ipywidgets>=7.5.1->neuralprophet) (0.9.2)\n",
            "Requirement already satisfied: wcwidth in /usr/local/lib/python3.7/dist-packages (from prompt-toolkit<2.0.0,>=1.0.4->ipython>=4.0.0; python_version >= \"3.3\"->ipywidgets>=7.5.1->neuralprophet) (0.2.5)\n",
            "Requirement already satisfied: ptyprocess>=0.5 in /usr/local/lib/python3.7/dist-packages (from pexpect; sys_platform != \"win32\"->ipython>=4.0.0; python_version >= \"3.3\"->ipywidgets>=7.5.1->neuralprophet) (0.7.0)\n",
            "Requirement already satisfied: mistune<2,>=0.8.1 in /usr/local/lib/python3.7/dist-packages (from nbconvert->notebook>=4.4.1->widgetsnbextension~=3.5.0->ipywidgets>=7.5.1->neuralprophet) (0.8.4)\n",
            "Requirement already satisfied: bleach in /usr/local/lib/python3.7/dist-packages (from nbconvert->notebook>=4.4.1->widgetsnbextension~=3.5.0->ipywidgets>=7.5.1->neuralprophet) (3.3.0)\n",
            "Requirement already satisfied: testpath in /usr/local/lib/python3.7/dist-packages (from nbconvert->notebook>=4.4.1->widgetsnbextension~=3.5.0->ipywidgets>=7.5.1->neuralprophet) (0.4.4)\n",
            "Requirement already satisfied: defusedxml in /usr/local/lib/python3.7/dist-packages (from nbconvert->notebook>=4.4.1->widgetsnbextension~=3.5.0->ipywidgets>=7.5.1->neuralprophet) (0.7.1)\n",
            "Requirement already satisfied: entrypoints>=0.2.2 in /usr/local/lib/python3.7/dist-packages (from nbconvert->notebook>=4.4.1->widgetsnbextension~=3.5.0->ipywidgets>=7.5.1->neuralprophet) (0.3)\n",
            "Requirement already satisfied: pandocfilters>=1.4.1 in /usr/local/lib/python3.7/dist-packages (from nbconvert->notebook>=4.4.1->widgetsnbextension~=3.5.0->ipywidgets>=7.5.1->neuralprophet) (1.4.3)\n",
            "Requirement already satisfied: MarkupSafe>=0.23 in /usr/local/lib/python3.7/dist-packages (from jinja2->notebook>=4.4.1->widgetsnbextension~=3.5.0->ipywidgets>=7.5.1->neuralprophet) (1.1.1)\n",
            "Requirement already satisfied: webencodings in /usr/local/lib/python3.7/dist-packages (from bleach->nbconvert->notebook>=4.4.1->widgetsnbextension~=3.5.0->ipywidgets>=7.5.1->neuralprophet) (0.5.1)\n",
            "\u001b[31mERROR: torchvision 0.9.0+cu101 has requirement torch==1.8.0, but you'll have torch 1.6.0 which is incompatible.\u001b[0m\n",
            "\u001b[31mERROR: torchtext 0.9.0 has requirement torch==1.8.0, but you'll have torch 1.6.0 which is incompatible.\u001b[0m\n",
            "Installing collected packages: torch, torch-lr-finder, neuralprophet\n",
            "Successfully installed neuralprophet-0.2.7 torch-1.6.0 torch-lr-finder-0.2.1\n"
          ],
          "name": "stdout"
        }
      ]
    },
    {
      "cell_type": "code",
      "metadata": {
        "id": "m0YmMSKiVN93"
      },
      "source": [
        "from neuralprophet import NeuralProphet"
      ],
      "execution_count": null,
      "outputs": []
    },
    {
      "cell_type": "code",
      "metadata": {
        "id": "EMobIKZQaMuY"
      },
      "source": [
        "neural_prophet_data = prophet_per_day[[\"ds\",\"y\"]]"
      ],
      "execution_count": null,
      "outputs": []
    },
    {
      "cell_type": "code",
      "metadata": {
        "id": "yxpukd28Lb2I"
      },
      "source": [
        "model = NeuralProphet(\n",
        "    growth=\"linear\",  # Determine trend types: 'linear', 'discontinuous', 'off'\n",
        "    changepoints=None, # list of dates that may include change points (None -> automatic )\n",
        "    n_changepoints=5,\n",
        "    changepoints_range=0.8,\n",
        "    trend_reg=0,\n",
        "    trend_reg_threshold=False,\n",
        "    yearly_seasonality=\"auto\",\n",
        "    weekly_seasonality=\"auto\",\n",
        "    daily_seasonality=\"auto\",\n",
        "    seasonality_mode=\"additive\",\n",
        "    seasonality_reg=0,\n",
        "    n_forecasts=1,\n",
        "    n_lags=0,\n",
        "    num_hidden_layers=0,\n",
        "    d_hidden=None,     # Dimension of hidden layers of AR-Net\n",
        "    ar_sparsity=None,  # Sparcity in the AR coefficients\n",
        "    learning_rate=None,\n",
        "    epochs=40,\n",
        "    loss_func=\"Huber\",\n",
        "    normalize=\"auto\",  # Type of normalization ('minmax', 'standardize', 'soft', 'off')\n",
        "    impute_missing=True,\n",
        "    log_level=None, # Determines the logging level of the logger object\n",
        ")"
      ],
      "execution_count": null,
      "outputs": []
    },
    {
      "cell_type": "code",
      "metadata": {
        "colab": {
          "base_uri": "https://localhost:8080/",
          "height": 399,
          "referenced_widgets": [
            "074ee64508e34ee0b4e4f2cb10bfb55a",
            "f7c77447f1064981b2f31c35a3e4c954",
            "e813a42bb9a2401580ddd1629f604919",
            "c01800c740ee4eff9ec4ad9876083b03",
            "5010d5e55fa44ad798603f5bc0645f80",
            "938002669ca1452b8d4011cae61383da",
            "6f4c444271794b93be99461fda3a609d",
            "abb349dc2a3547b2b59787fe0082750a",
            "c57d03ac3b4d4113b855cdc39e61874b",
            "e1fa6974e5734b939ca7b0e602af61e6",
            "fa3609ba89b54517a701cc432e70add1"
          ]
        },
        "id": "BsBGbtflLgys",
        "outputId": "4d0cdc62-4fd7-4ba8-b0a3-76edcfe5df8e"
      },
      "source": [
        "metrics = model.fit(neural_prophet_data, validate_each_epoch=True, freq=\"D\") \n",
        "future = model.make_future_dataframe(neural_prophet_data, periods=350, n_historic_predictions=len(neural_prophet_data)) \n",
        "forecast = model.predict(future)"
      ],
      "execution_count": null,
      "outputs": [
        {
          "output_type": "stream",
          "text": [
            "/usr/local/lib/python3.7/dist-packages/pandas/core/indexing.py:1743: SettingWithCopyWarning:\n",
            "\n",
            "\n",
            "A value is trying to be set on a copy of a slice from a DataFrame.\n",
            "Try using .loc[row_indexer,col_indexer] = value instead\n",
            "\n",
            "See the caveats in the documentation: https://pandas.pydata.org/pandas-docs/stable/user_guide/indexing.html#returning-a-view-versus-a-copy\n",
            "\n",
            "INFO: nprophet.utils - set_auto_seasonalities: Disabling yearly seasonality. Run NeuralProphet with yearly_seasonality=True to override this.\n",
            "INFO:nprophet.utils:Disabling yearly seasonality. Run NeuralProphet with yearly_seasonality=True to override this.\n",
            "INFO: nprophet.utils - set_auto_seasonalities: Disabling weekly seasonality. Run NeuralProphet with weekly_seasonality=True to override this.\n",
            "INFO:nprophet.utils:Disabling weekly seasonality. Run NeuralProphet with weekly_seasonality=True to override this.\n",
            "INFO: nprophet.utils - set_auto_seasonalities: Disabling daily seasonality. Run NeuralProphet with daily_seasonality=True to override this.\n",
            "INFO:nprophet.utils:Disabling daily seasonality. Run NeuralProphet with daily_seasonality=True to override this.\n",
            "INFO: nprophet.config - set_auto_batch_epoch: Auto-set batch_size to 1\n",
            "INFO:nprophet.config:Auto-set batch_size to 1\n"
          ],
          "name": "stderr"
        },
        {
          "output_type": "display_data",
          "data": {
            "application/vnd.jupyter.widget-view+json": {
              "model_id": "074ee64508e34ee0b4e4f2cb10bfb55a",
              "version_major": 2,
              "version_minor": 0
            },
            "text/plain": [
              "  0%|          | 0/100 [00:00<?, ?it/s]"
            ]
          },
          "metadata": {
            "tags": []
          }
        },
        {
          "output_type": "stream",
          "text": [
            "INFO: nprophet - _lr_range_test: learning rate range test found optimal lr: 1.00E-01\n",
            "INFO:nprophet:learning rate range test found optimal lr: 1.00E-01\n",
            "Epoch[40/40]: 100%|██████████| 40/40 [00:00<00:00, 74.81it/s, SmoothL1Loss=0.000201, MAE=27.7, RegLoss=0, MAE_val=686, SmoothL1Loss_val=0.108]\n"
          ],
          "name": "stderr"
        }
      ]
    },
    {
      "cell_type": "code",
      "metadata": {
        "colab": {
          "base_uri": "https://localhost:8080/",
          "height": 363
        },
        "id": "i1AH_sa0aKjl",
        "outputId": "ee612b84-46e0-4d58-8010-102218698c84"
      },
      "source": [
        "forecast[:10]"
      ],
      "execution_count": null,
      "outputs": [
        {
          "output_type": "execute_result",
          "data": {
            "text/html": [
              "<div>\n",
              "<style scoped>\n",
              "    .dataframe tbody tr th:only-of-type {\n",
              "        vertical-align: middle;\n",
              "    }\n",
              "\n",
              "    .dataframe tbody tr th {\n",
              "        vertical-align: top;\n",
              "    }\n",
              "\n",
              "    .dataframe thead th {\n",
              "        text-align: right;\n",
              "    }\n",
              "</style>\n",
              "<table border=\"1\" class=\"dataframe\">\n",
              "  <thead>\n",
              "    <tr style=\"text-align: right;\">\n",
              "      <th></th>\n",
              "      <th>ds</th>\n",
              "      <th>y</th>\n",
              "      <th>yhat1</th>\n",
              "      <th>residual1</th>\n",
              "      <th>trend</th>\n",
              "    </tr>\n",
              "  </thead>\n",
              "  <tbody>\n",
              "    <tr>\n",
              "      <th>0</th>\n",
              "      <td>2019-09-25</td>\n",
              "      <td>1200.25</td>\n",
              "      <td>1222.463745</td>\n",
              "      <td>22.213745</td>\n",
              "      <td>1222.463745</td>\n",
              "    </tr>\n",
              "    <tr>\n",
              "      <th>1</th>\n",
              "      <td>2019-09-26</td>\n",
              "      <td>1000.50</td>\n",
              "      <td>956.064087</td>\n",
              "      <td>-44.435913</td>\n",
              "      <td>956.064087</td>\n",
              "    </tr>\n",
              "    <tr>\n",
              "      <th>2</th>\n",
              "      <td>2019-09-27</td>\n",
              "      <td>603.50</td>\n",
              "      <td>586.397156</td>\n",
              "      <td>-17.102844</td>\n",
              "      <td>586.397156</td>\n",
              "    </tr>\n",
              "    <tr>\n",
              "      <th>3</th>\n",
              "      <td>2019-09-28</td>\n",
              "      <td>20.50</td>\n",
              "      <td>47.656982</td>\n",
              "      <td>27.156982</td>\n",
              "      <td>47.656982</td>\n",
              "    </tr>\n",
              "    <tr>\n",
              "      <th>4</th>\n",
              "      <td>2019-09-29</td>\n",
              "      <td>194.50</td>\n",
              "      <td>-491.083191</td>\n",
              "      <td>-685.583191</td>\n",
              "      <td>-491.083191</td>\n",
              "    </tr>\n",
              "    <tr>\n",
              "      <th>5</th>\n",
              "      <td>2019-09-30</td>\n",
              "      <td>NaN</td>\n",
              "      <td>-1029.823364</td>\n",
              "      <td>NaN</td>\n",
              "      <td>-1029.823364</td>\n",
              "    </tr>\n",
              "    <tr>\n",
              "      <th>6</th>\n",
              "      <td>2019-10-01</td>\n",
              "      <td>NaN</td>\n",
              "      <td>-1568.563477</td>\n",
              "      <td>NaN</td>\n",
              "      <td>-1568.563477</td>\n",
              "    </tr>\n",
              "    <tr>\n",
              "      <th>7</th>\n",
              "      <td>2019-10-02</td>\n",
              "      <td>NaN</td>\n",
              "      <td>-2107.303711</td>\n",
              "      <td>NaN</td>\n",
              "      <td>-2107.303711</td>\n",
              "    </tr>\n",
              "    <tr>\n",
              "      <th>8</th>\n",
              "      <td>2019-10-03</td>\n",
              "      <td>NaN</td>\n",
              "      <td>-2646.043945</td>\n",
              "      <td>NaN</td>\n",
              "      <td>-2646.043945</td>\n",
              "    </tr>\n",
              "    <tr>\n",
              "      <th>9</th>\n",
              "      <td>2019-10-04</td>\n",
              "      <td>NaN</td>\n",
              "      <td>-3184.784180</td>\n",
              "      <td>NaN</td>\n",
              "      <td>-3184.784180</td>\n",
              "    </tr>\n",
              "  </tbody>\n",
              "</table>\n",
              "</div>"
            ],
            "text/plain": [
              "          ds        y        yhat1   residual1        trend\n",
              "0 2019-09-25  1200.25  1222.463745   22.213745  1222.463745\n",
              "1 2019-09-26  1000.50   956.064087  -44.435913   956.064087\n",
              "2 2019-09-27   603.50   586.397156  -17.102844   586.397156\n",
              "3 2019-09-28    20.50    47.656982   27.156982    47.656982\n",
              "4 2019-09-29   194.50  -491.083191 -685.583191  -491.083191\n",
              "5 2019-09-30      NaN -1029.823364         NaN -1029.823364\n",
              "6 2019-10-01      NaN -1568.563477         NaN -1568.563477\n",
              "7 2019-10-02      NaN -2107.303711         NaN -2107.303711\n",
              "8 2019-10-03      NaN -2646.043945         NaN -2646.043945\n",
              "9 2019-10-04      NaN -3184.784180         NaN -3184.784180"
            ]
          },
          "metadata": {
            "tags": []
          },
          "execution_count": 18
        }
      ]
    },
    {
      "cell_type": "code",
      "metadata": {
        "id": "r9SGLU5aaat7"
      },
      "source": [
        ""
      ],
      "execution_count": null,
      "outputs": []
    },
    {
      "cell_type": "markdown",
      "metadata": {
        "id": "UNcYHdZ_ax-e"
      },
      "source": [
        "Neural Prophet is not initialized because of less number of time series data"
      ]
    },
    {
      "cell_type": "code",
      "metadata": {
        "colab": {
          "base_uri": "https://localhost:8080/",
          "height": 617
        },
        "id": "Ec-lMYMKa4kL",
        "outputId": "e528aac9-b38f-4fef-bd69-ae12554ee242"
      },
      "source": [
        "data"
      ],
      "execution_count": null,
      "outputs": [
        {
          "output_type": "execute_result",
          "data": {
            "text/html": [
              "<div>\n",
              "<style scoped>\n",
              "    .dataframe tbody tr th:only-of-type {\n",
              "        vertical-align: middle;\n",
              "    }\n",
              "\n",
              "    .dataframe tbody tr th {\n",
              "        vertical-align: top;\n",
              "    }\n",
              "\n",
              "    .dataframe thead th {\n",
              "        text-align: right;\n",
              "    }\n",
              "</style>\n",
              "<table border=\"1\" class=\"dataframe\">\n",
              "  <thead>\n",
              "    <tr style=\"text-align: right;\">\n",
              "      <th></th>\n",
              "      <th>order_no</th>\n",
              "      <th>discount_amount</th>\n",
              "      <th>adults</th>\n",
              "      <th>paid_from_wallet</th>\n",
              "      <th>order_time</th>\n",
              "      <th>source</th>\n",
              "      <th>departure_time</th>\n",
              "      <th>trip_id</th>\n",
              "      <th>net_revenue</th>\n",
              "      <th>base_id</th>\n",
              "      <th>travel_date</th>\n",
              "      <th>facility_fee</th>\n",
              "      <th>amount_in_usd</th>\n",
              "      <th>paid_from_card</th>\n",
              "      <th>total_revenue</th>\n",
              "      <th>date</th>\n",
              "      <th>new_time</th>\n",
              "      <th>time_hour</th>\n",
              "    </tr>\n",
              "  </thead>\n",
              "  <tbody>\n",
              "    <tr>\n",
              "      <th>0</th>\n",
              "      <td>774016</td>\n",
              "      <td>11.25</td>\n",
              "      <td>1</td>\n",
              "      <td>0</td>\n",
              "      <td>2019-09-25 03:47:29</td>\n",
              "      <td>WEB</td>\n",
              "      <td>06:25:00</td>\n",
              "      <td>16009</td>\n",
              "      <td>0.0</td>\n",
              "      <td>294729</td>\n",
              "      <td>2019-09-25</td>\n",
              "      <td>0</td>\n",
              "      <td>11.25</td>\n",
              "      <td>0.0</td>\n",
              "      <td>11.25</td>\n",
              "      <td>2019-09-25</td>\n",
              "      <td>03</td>\n",
              "      <td>3</td>\n",
              "    </tr>\n",
              "    <tr>\n",
              "      <th>1</th>\n",
              "      <td>774017</td>\n",
              "      <td>11.25</td>\n",
              "      <td>1</td>\n",
              "      <td>0</td>\n",
              "      <td>2019-09-25 03:48:52</td>\n",
              "      <td>WEB</td>\n",
              "      <td>17:30:00</td>\n",
              "      <td>310958</td>\n",
              "      <td>0.0</td>\n",
              "      <td>294729</td>\n",
              "      <td>2019-09-25</td>\n",
              "      <td>0</td>\n",
              "      <td>11.25</td>\n",
              "      <td>0.0</td>\n",
              "      <td>11.25</td>\n",
              "      <td>2019-09-25</td>\n",
              "      <td>03</td>\n",
              "      <td>3</td>\n",
              "    </tr>\n",
              "    <tr>\n",
              "      <th>2</th>\n",
              "      <td>774027</td>\n",
              "      <td>10.25</td>\n",
              "      <td>1</td>\n",
              "      <td>0</td>\n",
              "      <td>2019-09-25 05:24:09</td>\n",
              "      <td>IOS</td>\n",
              "      <td>06:25:00</td>\n",
              "      <td>16009</td>\n",
              "      <td>0.0</td>\n",
              "      <td>1338</td>\n",
              "      <td>2019-09-25</td>\n",
              "      <td>0</td>\n",
              "      <td>10.25</td>\n",
              "      <td>0.0</td>\n",
              "      <td>10.25</td>\n",
              "      <td>2019-09-25</td>\n",
              "      <td>05</td>\n",
              "      <td>5</td>\n",
              "    </tr>\n",
              "    <tr>\n",
              "      <th>3</th>\n",
              "      <td>774027</td>\n",
              "      <td>10.25</td>\n",
              "      <td>1</td>\n",
              "      <td>0</td>\n",
              "      <td>2019-09-25 05:24:09</td>\n",
              "      <td>IOS</td>\n",
              "      <td>17:30:00</td>\n",
              "      <td>310958</td>\n",
              "      <td>0.0</td>\n",
              "      <td>1338</td>\n",
              "      <td>2019-09-25</td>\n",
              "      <td>0</td>\n",
              "      <td>10.25</td>\n",
              "      <td>0.0</td>\n",
              "      <td>10.25</td>\n",
              "      <td>2019-09-25</td>\n",
              "      <td>05</td>\n",
              "      <td>5</td>\n",
              "    </tr>\n",
              "    <tr>\n",
              "      <th>4</th>\n",
              "      <td>774029</td>\n",
              "      <td>11.25</td>\n",
              "      <td>1</td>\n",
              "      <td>0</td>\n",
              "      <td>2019-09-25 05:38:44</td>\n",
              "      <td>WEB</td>\n",
              "      <td>06:25:00</td>\n",
              "      <td>16009</td>\n",
              "      <td>0.0</td>\n",
              "      <td>35</td>\n",
              "      <td>2019-09-25</td>\n",
              "      <td>0</td>\n",
              "      <td>11.25</td>\n",
              "      <td>0.0</td>\n",
              "      <td>11.25</td>\n",
              "      <td>2019-09-25</td>\n",
              "      <td>05</td>\n",
              "      <td>5</td>\n",
              "    </tr>\n",
              "    <tr>\n",
              "      <th>...</th>\n",
              "      <td>...</td>\n",
              "      <td>...</td>\n",
              "      <td>...</td>\n",
              "      <td>...</td>\n",
              "      <td>...</td>\n",
              "      <td>...</td>\n",
              "      <td>...</td>\n",
              "      <td>...</td>\n",
              "      <td>...</td>\n",
              "      <td>...</td>\n",
              "      <td>...</td>\n",
              "      <td>...</td>\n",
              "      <td>...</td>\n",
              "      <td>...</td>\n",
              "      <td>...</td>\n",
              "      <td>...</td>\n",
              "      <td>...</td>\n",
              "      <td>...</td>\n",
              "    </tr>\n",
              "    <tr>\n",
              "      <th>265</th>\n",
              "      <td>782656</td>\n",
              "      <td>11.25</td>\n",
              "      <td>1</td>\n",
              "      <td>0</td>\n",
              "      <td>2019-09-29 21:57:11</td>\n",
              "      <td>IOS</td>\n",
              "      <td>06:55:00</td>\n",
              "      <td>117711</td>\n",
              "      <td>0.0</td>\n",
              "      <td>430</td>\n",
              "      <td>2019-09-30</td>\n",
              "      <td>0</td>\n",
              "      <td>11.25</td>\n",
              "      <td>0.0</td>\n",
              "      <td>11.25</td>\n",
              "      <td>2019-09-29</td>\n",
              "      <td>21</td>\n",
              "      <td>21</td>\n",
              "    </tr>\n",
              "    <tr>\n",
              "      <th>266</th>\n",
              "      <td>782699</td>\n",
              "      <td>11.25</td>\n",
              "      <td>1</td>\n",
              "      <td>0</td>\n",
              "      <td>2019-09-29 22:13:58</td>\n",
              "      <td>WEB</td>\n",
              "      <td>06:25:00</td>\n",
              "      <td>16009</td>\n",
              "      <td>0.0</td>\n",
              "      <td>294729</td>\n",
              "      <td>2019-09-30</td>\n",
              "      <td>0</td>\n",
              "      <td>11.25</td>\n",
              "      <td>0.0</td>\n",
              "      <td>11.25</td>\n",
              "      <td>2019-09-29</td>\n",
              "      <td>22</td>\n",
              "      <td>22</td>\n",
              "    </tr>\n",
              "    <tr>\n",
              "      <th>267</th>\n",
              "      <td>782704</td>\n",
              "      <td>11.25</td>\n",
              "      <td>1</td>\n",
              "      <td>0</td>\n",
              "      <td>2019-09-29 22:15:15</td>\n",
              "      <td>WEB</td>\n",
              "      <td>17:30:00</td>\n",
              "      <td>310958</td>\n",
              "      <td>0.0</td>\n",
              "      <td>294729</td>\n",
              "      <td>2019-09-30</td>\n",
              "      <td>0</td>\n",
              "      <td>11.25</td>\n",
              "      <td>0.0</td>\n",
              "      <td>11.25</td>\n",
              "      <td>2019-09-29</td>\n",
              "      <td>22</td>\n",
              "      <td>22</td>\n",
              "    </tr>\n",
              "    <tr>\n",
              "      <th>268</th>\n",
              "      <td>782706</td>\n",
              "      <td>11.25</td>\n",
              "      <td>1</td>\n",
              "      <td>0</td>\n",
              "      <td>2019-09-29 22:16:58</td>\n",
              "      <td>IOS</td>\n",
              "      <td>06:55:00</td>\n",
              "      <td>117711</td>\n",
              "      <td>0.0</td>\n",
              "      <td>260</td>\n",
              "      <td>2019-09-30</td>\n",
              "      <td>0</td>\n",
              "      <td>11.25</td>\n",
              "      <td>0.0</td>\n",
              "      <td>11.25</td>\n",
              "      <td>2019-09-29</td>\n",
              "      <td>22</td>\n",
              "      <td>22</td>\n",
              "    </tr>\n",
              "    <tr>\n",
              "      <th>269</th>\n",
              "      <td>782807</td>\n",
              "      <td>11.25</td>\n",
              "      <td>1</td>\n",
              "      <td>0</td>\n",
              "      <td>2019-09-29 23:13:30</td>\n",
              "      <td>ANDROID</td>\n",
              "      <td>06:25:00</td>\n",
              "      <td>16009</td>\n",
              "      <td>0.0</td>\n",
              "      <td>3863</td>\n",
              "      <td>2019-09-30</td>\n",
              "      <td>0</td>\n",
              "      <td>11.25</td>\n",
              "      <td>0.0</td>\n",
              "      <td>11.25</td>\n",
              "      <td>2019-09-29</td>\n",
              "      <td>23</td>\n",
              "      <td>23</td>\n",
              "    </tr>\n",
              "  </tbody>\n",
              "</table>\n",
              "<p>270 rows × 18 columns</p>\n",
              "</div>"
            ],
            "text/plain": [
              "     order_no  discount_amount  adults  ...        date new_time time_hour\n",
              "0      774016            11.25       1  ...  2019-09-25       03         3\n",
              "1      774017            11.25       1  ...  2019-09-25       03         3\n",
              "2      774027            10.25       1  ...  2019-09-25       05         5\n",
              "3      774027            10.25       1  ...  2019-09-25       05         5\n",
              "4      774029            11.25       1  ...  2019-09-25       05         5\n",
              "..        ...              ...     ...  ...         ...      ...       ...\n",
              "265    782656            11.25       1  ...  2019-09-29       21        21\n",
              "266    782699            11.25       1  ...  2019-09-29       22        22\n",
              "267    782704            11.25       1  ...  2019-09-29       22        22\n",
              "268    782706            11.25       1  ...  2019-09-29       22        22\n",
              "269    782807            11.25       1  ...  2019-09-29       23        23\n",
              "\n",
              "[270 rows x 18 columns]"
            ]
          },
          "metadata": {
            "tags": []
          },
          "execution_count": 35
        }
      ]
    },
    {
      "cell_type": "code",
      "metadata": {
        "id": "8aAoY0u5yK3h"
      },
      "source": [
        "data[\"datetime_new\"]= [datetime.strptime(str(i),'%Y-%m-%d %H:%M:%S').strftime(\"%Y-%m-%d %H:00:00\") for i in data[\"order_time\"]]"
      ],
      "execution_count": null,
      "outputs": []
    },
    {
      "cell_type": "code",
      "metadata": {
        "colab": {
          "base_uri": "https://localhost:8080/",
          "height": 617
        },
        "id": "8lHJWOA50vbh",
        "outputId": "3f39aca0-278f-411c-a5c7-c19048a02cfd"
      },
      "source": [
        "data"
      ],
      "execution_count": null,
      "outputs": [
        {
          "output_type": "execute_result",
          "data": {
            "text/html": [
              "<div>\n",
              "<style scoped>\n",
              "    .dataframe tbody tr th:only-of-type {\n",
              "        vertical-align: middle;\n",
              "    }\n",
              "\n",
              "    .dataframe tbody tr th {\n",
              "        vertical-align: top;\n",
              "    }\n",
              "\n",
              "    .dataframe thead th {\n",
              "        text-align: right;\n",
              "    }\n",
              "</style>\n",
              "<table border=\"1\" class=\"dataframe\">\n",
              "  <thead>\n",
              "    <tr style=\"text-align: right;\">\n",
              "      <th></th>\n",
              "      <th>order_no</th>\n",
              "      <th>discount_amount</th>\n",
              "      <th>adults</th>\n",
              "      <th>paid_from_wallet</th>\n",
              "      <th>order_time</th>\n",
              "      <th>source</th>\n",
              "      <th>departure_time</th>\n",
              "      <th>trip_id</th>\n",
              "      <th>net_revenue</th>\n",
              "      <th>base_id</th>\n",
              "      <th>travel_date</th>\n",
              "      <th>facility_fee</th>\n",
              "      <th>amount_in_usd</th>\n",
              "      <th>paid_from_card</th>\n",
              "      <th>total_revenue</th>\n",
              "      <th>date</th>\n",
              "      <th>new_time</th>\n",
              "      <th>time_hour</th>\n",
              "      <th>datetime_new</th>\n",
              "    </tr>\n",
              "  </thead>\n",
              "  <tbody>\n",
              "    <tr>\n",
              "      <th>0</th>\n",
              "      <td>774016</td>\n",
              "      <td>11.25</td>\n",
              "      <td>1</td>\n",
              "      <td>0</td>\n",
              "      <td>2019-09-25 03:47:29</td>\n",
              "      <td>WEB</td>\n",
              "      <td>06:25:00</td>\n",
              "      <td>16009</td>\n",
              "      <td>0.0</td>\n",
              "      <td>294729</td>\n",
              "      <td>2019-09-25</td>\n",
              "      <td>0</td>\n",
              "      <td>11.25</td>\n",
              "      <td>0.0</td>\n",
              "      <td>11.25</td>\n",
              "      <td>2019-09-25</td>\n",
              "      <td>03</td>\n",
              "      <td>3</td>\n",
              "      <td>2019-09-25 03:00:00</td>\n",
              "    </tr>\n",
              "    <tr>\n",
              "      <th>1</th>\n",
              "      <td>774017</td>\n",
              "      <td>11.25</td>\n",
              "      <td>1</td>\n",
              "      <td>0</td>\n",
              "      <td>2019-09-25 03:48:52</td>\n",
              "      <td>WEB</td>\n",
              "      <td>17:30:00</td>\n",
              "      <td>310958</td>\n",
              "      <td>0.0</td>\n",
              "      <td>294729</td>\n",
              "      <td>2019-09-25</td>\n",
              "      <td>0</td>\n",
              "      <td>11.25</td>\n",
              "      <td>0.0</td>\n",
              "      <td>11.25</td>\n",
              "      <td>2019-09-25</td>\n",
              "      <td>03</td>\n",
              "      <td>3</td>\n",
              "      <td>2019-09-25 03:00:00</td>\n",
              "    </tr>\n",
              "    <tr>\n",
              "      <th>2</th>\n",
              "      <td>774027</td>\n",
              "      <td>10.25</td>\n",
              "      <td>1</td>\n",
              "      <td>0</td>\n",
              "      <td>2019-09-25 05:24:09</td>\n",
              "      <td>IOS</td>\n",
              "      <td>06:25:00</td>\n",
              "      <td>16009</td>\n",
              "      <td>0.0</td>\n",
              "      <td>1338</td>\n",
              "      <td>2019-09-25</td>\n",
              "      <td>0</td>\n",
              "      <td>10.25</td>\n",
              "      <td>0.0</td>\n",
              "      <td>10.25</td>\n",
              "      <td>2019-09-25</td>\n",
              "      <td>05</td>\n",
              "      <td>5</td>\n",
              "      <td>2019-09-25 05:00:00</td>\n",
              "    </tr>\n",
              "    <tr>\n",
              "      <th>3</th>\n",
              "      <td>774027</td>\n",
              "      <td>10.25</td>\n",
              "      <td>1</td>\n",
              "      <td>0</td>\n",
              "      <td>2019-09-25 05:24:09</td>\n",
              "      <td>IOS</td>\n",
              "      <td>17:30:00</td>\n",
              "      <td>310958</td>\n",
              "      <td>0.0</td>\n",
              "      <td>1338</td>\n",
              "      <td>2019-09-25</td>\n",
              "      <td>0</td>\n",
              "      <td>10.25</td>\n",
              "      <td>0.0</td>\n",
              "      <td>10.25</td>\n",
              "      <td>2019-09-25</td>\n",
              "      <td>05</td>\n",
              "      <td>5</td>\n",
              "      <td>2019-09-25 05:00:00</td>\n",
              "    </tr>\n",
              "    <tr>\n",
              "      <th>4</th>\n",
              "      <td>774029</td>\n",
              "      <td>11.25</td>\n",
              "      <td>1</td>\n",
              "      <td>0</td>\n",
              "      <td>2019-09-25 05:38:44</td>\n",
              "      <td>WEB</td>\n",
              "      <td>06:25:00</td>\n",
              "      <td>16009</td>\n",
              "      <td>0.0</td>\n",
              "      <td>35</td>\n",
              "      <td>2019-09-25</td>\n",
              "      <td>0</td>\n",
              "      <td>11.25</td>\n",
              "      <td>0.0</td>\n",
              "      <td>11.25</td>\n",
              "      <td>2019-09-25</td>\n",
              "      <td>05</td>\n",
              "      <td>5</td>\n",
              "      <td>2019-09-25 05:00:00</td>\n",
              "    </tr>\n",
              "    <tr>\n",
              "      <th>...</th>\n",
              "      <td>...</td>\n",
              "      <td>...</td>\n",
              "      <td>...</td>\n",
              "      <td>...</td>\n",
              "      <td>...</td>\n",
              "      <td>...</td>\n",
              "      <td>...</td>\n",
              "      <td>...</td>\n",
              "      <td>...</td>\n",
              "      <td>...</td>\n",
              "      <td>...</td>\n",
              "      <td>...</td>\n",
              "      <td>...</td>\n",
              "      <td>...</td>\n",
              "      <td>...</td>\n",
              "      <td>...</td>\n",
              "      <td>...</td>\n",
              "      <td>...</td>\n",
              "      <td>...</td>\n",
              "    </tr>\n",
              "    <tr>\n",
              "      <th>265</th>\n",
              "      <td>782656</td>\n",
              "      <td>11.25</td>\n",
              "      <td>1</td>\n",
              "      <td>0</td>\n",
              "      <td>2019-09-29 21:57:11</td>\n",
              "      <td>IOS</td>\n",
              "      <td>06:55:00</td>\n",
              "      <td>117711</td>\n",
              "      <td>0.0</td>\n",
              "      <td>430</td>\n",
              "      <td>2019-09-30</td>\n",
              "      <td>0</td>\n",
              "      <td>11.25</td>\n",
              "      <td>0.0</td>\n",
              "      <td>11.25</td>\n",
              "      <td>2019-09-29</td>\n",
              "      <td>21</td>\n",
              "      <td>21</td>\n",
              "      <td>2019-09-29 21:00:00</td>\n",
              "    </tr>\n",
              "    <tr>\n",
              "      <th>266</th>\n",
              "      <td>782699</td>\n",
              "      <td>11.25</td>\n",
              "      <td>1</td>\n",
              "      <td>0</td>\n",
              "      <td>2019-09-29 22:13:58</td>\n",
              "      <td>WEB</td>\n",
              "      <td>06:25:00</td>\n",
              "      <td>16009</td>\n",
              "      <td>0.0</td>\n",
              "      <td>294729</td>\n",
              "      <td>2019-09-30</td>\n",
              "      <td>0</td>\n",
              "      <td>11.25</td>\n",
              "      <td>0.0</td>\n",
              "      <td>11.25</td>\n",
              "      <td>2019-09-29</td>\n",
              "      <td>22</td>\n",
              "      <td>22</td>\n",
              "      <td>2019-09-29 22:00:00</td>\n",
              "    </tr>\n",
              "    <tr>\n",
              "      <th>267</th>\n",
              "      <td>782704</td>\n",
              "      <td>11.25</td>\n",
              "      <td>1</td>\n",
              "      <td>0</td>\n",
              "      <td>2019-09-29 22:15:15</td>\n",
              "      <td>WEB</td>\n",
              "      <td>17:30:00</td>\n",
              "      <td>310958</td>\n",
              "      <td>0.0</td>\n",
              "      <td>294729</td>\n",
              "      <td>2019-09-30</td>\n",
              "      <td>0</td>\n",
              "      <td>11.25</td>\n",
              "      <td>0.0</td>\n",
              "      <td>11.25</td>\n",
              "      <td>2019-09-29</td>\n",
              "      <td>22</td>\n",
              "      <td>22</td>\n",
              "      <td>2019-09-29 22:00:00</td>\n",
              "    </tr>\n",
              "    <tr>\n",
              "      <th>268</th>\n",
              "      <td>782706</td>\n",
              "      <td>11.25</td>\n",
              "      <td>1</td>\n",
              "      <td>0</td>\n",
              "      <td>2019-09-29 22:16:58</td>\n",
              "      <td>IOS</td>\n",
              "      <td>06:55:00</td>\n",
              "      <td>117711</td>\n",
              "      <td>0.0</td>\n",
              "      <td>260</td>\n",
              "      <td>2019-09-30</td>\n",
              "      <td>0</td>\n",
              "      <td>11.25</td>\n",
              "      <td>0.0</td>\n",
              "      <td>11.25</td>\n",
              "      <td>2019-09-29</td>\n",
              "      <td>22</td>\n",
              "      <td>22</td>\n",
              "      <td>2019-09-29 22:00:00</td>\n",
              "    </tr>\n",
              "    <tr>\n",
              "      <th>269</th>\n",
              "      <td>782807</td>\n",
              "      <td>11.25</td>\n",
              "      <td>1</td>\n",
              "      <td>0</td>\n",
              "      <td>2019-09-29 23:13:30</td>\n",
              "      <td>ANDROID</td>\n",
              "      <td>06:25:00</td>\n",
              "      <td>16009</td>\n",
              "      <td>0.0</td>\n",
              "      <td>3863</td>\n",
              "      <td>2019-09-30</td>\n",
              "      <td>0</td>\n",
              "      <td>11.25</td>\n",
              "      <td>0.0</td>\n",
              "      <td>11.25</td>\n",
              "      <td>2019-09-29</td>\n",
              "      <td>23</td>\n",
              "      <td>23</td>\n",
              "      <td>2019-09-29 23:00:00</td>\n",
              "    </tr>\n",
              "  </tbody>\n",
              "</table>\n",
              "<p>270 rows × 19 columns</p>\n",
              "</div>"
            ],
            "text/plain": [
              "     order_no  discount_amount  adults  ...  new_time time_hour         datetime_new\n",
              "0      774016            11.25       1  ...        03         3  2019-09-25 03:00:00\n",
              "1      774017            11.25       1  ...        03         3  2019-09-25 03:00:00\n",
              "2      774027            10.25       1  ...        05         5  2019-09-25 05:00:00\n",
              "3      774027            10.25       1  ...        05         5  2019-09-25 05:00:00\n",
              "4      774029            11.25       1  ...        05         5  2019-09-25 05:00:00\n",
              "..        ...              ...     ...  ...       ...       ...                  ...\n",
              "265    782656            11.25       1  ...        21        21  2019-09-29 21:00:00\n",
              "266    782699            11.25       1  ...        22        22  2019-09-29 22:00:00\n",
              "267    782704            11.25       1  ...        22        22  2019-09-29 22:00:00\n",
              "268    782706            11.25       1  ...        22        22  2019-09-29 22:00:00\n",
              "269    782807            11.25       1  ...        23        23  2019-09-29 23:00:00\n",
              "\n",
              "[270 rows x 19 columns]"
            ]
          },
          "metadata": {
            "tags": []
          },
          "execution_count": 59
        }
      ]
    },
    {
      "cell_type": "code",
      "metadata": {
        "id": "f9hyK4mY1QMp"
      },
      "source": [
        ""
      ],
      "execution_count": null,
      "outputs": []
    },
    {
      "cell_type": "code",
      "metadata": {
        "id": "okn6WM0l30NN"
      },
      "source": [
        ""
      ],
      "execution_count": null,
      "outputs": []
    },
    {
      "cell_type": "code",
      "metadata": {
        "id": "g7eTSAvY31UW"
      },
      "source": [
        ""
      ],
      "execution_count": null,
      "outputs": []
    },
    {
      "cell_type": "code",
      "metadata": {
        "id": "n4ZE7T3L7adX"
      },
      "source": [
        ""
      ],
      "execution_count": null,
      "outputs": []
    },
    {
      "cell_type": "code",
      "metadata": {
        "id": "HKkV26gv6x8F"
      },
      "source": [
        "d = data[[\"datetime_new\",\"total_revenue\"]]\n",
        "data_per_hour = d.groupby([\"datetime_new\"], as_index=False)[\"total_revenue\"].sum()"
      ],
      "execution_count": null,
      "outputs": []
    },
    {
      "cell_type": "code",
      "metadata": {
        "id": "1PB2izLN_Iph"
      },
      "source": [
        ""
      ],
      "execution_count": null,
      "outputs": []
    },
    {
      "cell_type": "code",
      "metadata": {
        "id": "Xol3qgny7KA5"
      },
      "source": [
        "data_per_hour.index = pd.DatetimeIndex(data_per_hour['datetime_new']).floor('H')"
      ],
      "execution_count": null,
      "outputs": []
    },
    {
      "cell_type": "code",
      "metadata": {
        "colab": {
          "base_uri": "https://localhost:8080/",
          "height": 1000
        },
        "id": "O6qmaCbY7K74",
        "outputId": "9d439e08-bafe-4361-9a2e-40dbda04805b"
      },
      "source": [
        "data_per_hour.head()"
      ],
      "execution_count": null,
      "outputs": [
        {
          "output_type": "execute_result",
          "data": {
            "text/html": [
              "<div>\n",
              "<style scoped>\n",
              "    .dataframe tbody tr th:only-of-type {\n",
              "        vertical-align: middle;\n",
              "    }\n",
              "\n",
              "    .dataframe tbody tr th {\n",
              "        vertical-align: top;\n",
              "    }\n",
              "\n",
              "    .dataframe thead th {\n",
              "        text-align: right;\n",
              "    }\n",
              "</style>\n",
              "<table border=\"1\" class=\"dataframe\">\n",
              "  <thead>\n",
              "    <tr style=\"text-align: right;\">\n",
              "      <th></th>\n",
              "      <th>datetime_new</th>\n",
              "      <th>total_revenue</th>\n",
              "    </tr>\n",
              "    <tr>\n",
              "      <th>datetime_new</th>\n",
              "      <th></th>\n",
              "      <th></th>\n",
              "    </tr>\n",
              "  </thead>\n",
              "  <tbody>\n",
              "    <tr>\n",
              "      <th>2019-09-25 03:00:00</th>\n",
              "      <td>2019-09-25 03:00:00</td>\n",
              "      <td>22.50</td>\n",
              "    </tr>\n",
              "    <tr>\n",
              "      <th>2019-09-25 05:00:00</th>\n",
              "      <td>2019-09-25 05:00:00</td>\n",
              "      <td>52.25</td>\n",
              "    </tr>\n",
              "    <tr>\n",
              "      <th>2019-09-25 06:00:00</th>\n",
              "      <td>2019-09-25 06:00:00</td>\n",
              "      <td>518.75</td>\n",
              "    </tr>\n",
              "    <tr>\n",
              "      <th>2019-09-25 07:00:00</th>\n",
              "      <td>2019-09-25 07:00:00</td>\n",
              "      <td>88.00</td>\n",
              "    </tr>\n",
              "    <tr>\n",
              "      <th>2019-09-25 10:00:00</th>\n",
              "      <td>2019-09-25 10:00:00</td>\n",
              "      <td>11.25</td>\n",
              "    </tr>\n",
              "    <tr>\n",
              "      <th>2019-09-25 11:00:00</th>\n",
              "      <td>2019-09-25 11:00:00</td>\n",
              "      <td>11.25</td>\n",
              "    </tr>\n",
              "    <tr>\n",
              "      <th>2019-09-25 14:00:00</th>\n",
              "      <td>2019-09-25 14:00:00</td>\n",
              "      <td>22.50</td>\n",
              "    </tr>\n",
              "    <tr>\n",
              "      <th>2019-09-25 16:00:00</th>\n",
              "      <td>2019-09-25 16:00:00</td>\n",
              "      <td>56.25</td>\n",
              "    </tr>\n",
              "    <tr>\n",
              "      <th>2019-09-25 17:00:00</th>\n",
              "      <td>2019-09-25 17:00:00</td>\n",
              "      <td>225.00</td>\n",
              "    </tr>\n",
              "    <tr>\n",
              "      <th>2019-09-25 19:00:00</th>\n",
              "      <td>2019-09-25 19:00:00</td>\n",
              "      <td>11.25</td>\n",
              "    </tr>\n",
              "    <tr>\n",
              "      <th>2019-09-25 21:00:00</th>\n",
              "      <td>2019-09-25 21:00:00</td>\n",
              "      <td>20.50</td>\n",
              "    </tr>\n",
              "    <tr>\n",
              "      <th>2019-09-25 22:00:00</th>\n",
              "      <td>2019-09-25 22:00:00</td>\n",
              "      <td>88.00</td>\n",
              "    </tr>\n",
              "    <tr>\n",
              "      <th>2019-09-25 23:00:00</th>\n",
              "      <td>2019-09-25 23:00:00</td>\n",
              "      <td>72.75</td>\n",
              "    </tr>\n",
              "    <tr>\n",
              "      <th>2019-09-26 01:00:00</th>\n",
              "      <td>2019-09-26 01:00:00</td>\n",
              "      <td>11.25</td>\n",
              "    </tr>\n",
              "    <tr>\n",
              "      <th>2019-09-26 02:00:00</th>\n",
              "      <td>2019-09-26 02:00:00</td>\n",
              "      <td>11.25</td>\n",
              "    </tr>\n",
              "    <tr>\n",
              "      <th>2019-09-26 04:00:00</th>\n",
              "      <td>2019-09-26 04:00:00</td>\n",
              "      <td>11.25</td>\n",
              "    </tr>\n",
              "    <tr>\n",
              "      <th>2019-09-26 05:00:00</th>\n",
              "      <td>2019-09-26 05:00:00</td>\n",
              "      <td>54.25</td>\n",
              "    </tr>\n",
              "    <tr>\n",
              "      <th>2019-09-26 06:00:00</th>\n",
              "      <td>2019-09-26 06:00:00</td>\n",
              "      <td>547.25</td>\n",
              "    </tr>\n",
              "    <tr>\n",
              "      <th>2019-09-26 07:00:00</th>\n",
              "      <td>2019-09-26 07:00:00</td>\n",
              "      <td>33.75</td>\n",
              "    </tr>\n",
              "    <tr>\n",
              "      <th>2019-09-26 16:00:00</th>\n",
              "      <td>2019-09-26 16:00:00</td>\n",
              "      <td>11.25</td>\n",
              "    </tr>\n",
              "    <tr>\n",
              "      <th>2019-09-26 17:00:00</th>\n",
              "      <td>2019-09-26 17:00:00</td>\n",
              "      <td>180.00</td>\n",
              "    </tr>\n",
              "    <tr>\n",
              "      <th>2019-09-26 21:00:00</th>\n",
              "      <td>2019-09-26 21:00:00</td>\n",
              "      <td>56.25</td>\n",
              "    </tr>\n",
              "    <tr>\n",
              "      <th>2019-09-26 22:00:00</th>\n",
              "      <td>2019-09-26 22:00:00</td>\n",
              "      <td>72.75</td>\n",
              "    </tr>\n",
              "    <tr>\n",
              "      <th>2019-09-26 23:00:00</th>\n",
              "      <td>2019-09-26 23:00:00</td>\n",
              "      <td>11.25</td>\n",
              "    </tr>\n",
              "    <tr>\n",
              "      <th>2019-09-27 00:00:00</th>\n",
              "      <td>2019-09-27 00:00:00</td>\n",
              "      <td>11.25</td>\n",
              "    </tr>\n",
              "    <tr>\n",
              "      <th>2019-09-27 03:00:00</th>\n",
              "      <td>2019-09-27 03:00:00</td>\n",
              "      <td>11.25</td>\n",
              "    </tr>\n",
              "    <tr>\n",
              "      <th>2019-09-27 06:00:00</th>\n",
              "      <td>2019-09-27 06:00:00</td>\n",
              "      <td>335.50</td>\n",
              "    </tr>\n",
              "    <tr>\n",
              "      <th>2019-09-27 11:00:00</th>\n",
              "      <td>2019-09-27 11:00:00</td>\n",
              "      <td>20.50</td>\n",
              "    </tr>\n",
              "    <tr>\n",
              "      <th>2019-09-27 13:00:00</th>\n",
              "      <td>2019-09-27 13:00:00</td>\n",
              "      <td>11.25</td>\n",
              "    </tr>\n",
              "    <tr>\n",
              "      <th>2019-09-27 16:00:00</th>\n",
              "      <td>2019-09-27 16:00:00</td>\n",
              "      <td>22.50</td>\n",
              "    </tr>\n",
              "    <tr>\n",
              "      <th>2019-09-27 17:00:00</th>\n",
              "      <td>2019-09-27 17:00:00</td>\n",
              "      <td>191.25</td>\n",
              "    </tr>\n",
              "    <tr>\n",
              "      <th>2019-09-28 16:00:00</th>\n",
              "      <td>2019-09-28 16:00:00</td>\n",
              "      <td>20.50</td>\n",
              "    </tr>\n",
              "    <tr>\n",
              "      <th>2019-09-29 11:00:00</th>\n",
              "      <td>2019-09-29 11:00:00</td>\n",
              "      <td>20.50</td>\n",
              "    </tr>\n",
              "    <tr>\n",
              "      <th>2019-09-29 17:00:00</th>\n",
              "      <td>2019-09-29 17:00:00</td>\n",
              "      <td>11.25</td>\n",
              "    </tr>\n",
              "    <tr>\n",
              "      <th>2019-09-29 19:00:00</th>\n",
              "      <td>2019-09-29 19:00:00</td>\n",
              "      <td>20.50</td>\n",
              "    </tr>\n",
              "    <tr>\n",
              "      <th>2019-09-29 20:00:00</th>\n",
              "      <td>2019-09-29 20:00:00</td>\n",
              "      <td>11.25</td>\n",
              "    </tr>\n",
              "    <tr>\n",
              "      <th>2019-09-29 21:00:00</th>\n",
              "      <td>2019-09-29 21:00:00</td>\n",
              "      <td>86.00</td>\n",
              "    </tr>\n",
              "    <tr>\n",
              "      <th>2019-09-29 22:00:00</th>\n",
              "      <td>2019-09-29 22:00:00</td>\n",
              "      <td>33.75</td>\n",
              "    </tr>\n",
              "    <tr>\n",
              "      <th>2019-09-29 23:00:00</th>\n",
              "      <td>2019-09-29 23:00:00</td>\n",
              "      <td>11.25</td>\n",
              "    </tr>\n",
              "  </tbody>\n",
              "</table>\n",
              "</div>"
            ],
            "text/plain": [
              "                            datetime_new  total_revenue\n",
              "datetime_new                                           \n",
              "2019-09-25 03:00:00  2019-09-25 03:00:00          22.50\n",
              "2019-09-25 05:00:00  2019-09-25 05:00:00          52.25\n",
              "2019-09-25 06:00:00  2019-09-25 06:00:00         518.75\n",
              "2019-09-25 07:00:00  2019-09-25 07:00:00          88.00\n",
              "2019-09-25 10:00:00  2019-09-25 10:00:00          11.25\n",
              "2019-09-25 11:00:00  2019-09-25 11:00:00          11.25\n",
              "2019-09-25 14:00:00  2019-09-25 14:00:00          22.50\n",
              "2019-09-25 16:00:00  2019-09-25 16:00:00          56.25\n",
              "2019-09-25 17:00:00  2019-09-25 17:00:00         225.00\n",
              "2019-09-25 19:00:00  2019-09-25 19:00:00          11.25\n",
              "2019-09-25 21:00:00  2019-09-25 21:00:00          20.50\n",
              "2019-09-25 22:00:00  2019-09-25 22:00:00          88.00\n",
              "2019-09-25 23:00:00  2019-09-25 23:00:00          72.75\n",
              "2019-09-26 01:00:00  2019-09-26 01:00:00          11.25\n",
              "2019-09-26 02:00:00  2019-09-26 02:00:00          11.25\n",
              "2019-09-26 04:00:00  2019-09-26 04:00:00          11.25\n",
              "2019-09-26 05:00:00  2019-09-26 05:00:00          54.25\n",
              "2019-09-26 06:00:00  2019-09-26 06:00:00         547.25\n",
              "2019-09-26 07:00:00  2019-09-26 07:00:00          33.75\n",
              "2019-09-26 16:00:00  2019-09-26 16:00:00          11.25\n",
              "2019-09-26 17:00:00  2019-09-26 17:00:00         180.00\n",
              "2019-09-26 21:00:00  2019-09-26 21:00:00          56.25\n",
              "2019-09-26 22:00:00  2019-09-26 22:00:00          72.75\n",
              "2019-09-26 23:00:00  2019-09-26 23:00:00          11.25\n",
              "2019-09-27 00:00:00  2019-09-27 00:00:00          11.25\n",
              "2019-09-27 03:00:00  2019-09-27 03:00:00          11.25\n",
              "2019-09-27 06:00:00  2019-09-27 06:00:00         335.50\n",
              "2019-09-27 11:00:00  2019-09-27 11:00:00          20.50\n",
              "2019-09-27 13:00:00  2019-09-27 13:00:00          11.25\n",
              "2019-09-27 16:00:00  2019-09-27 16:00:00          22.50\n",
              "2019-09-27 17:00:00  2019-09-27 17:00:00         191.25\n",
              "2019-09-28 16:00:00  2019-09-28 16:00:00          20.50\n",
              "2019-09-29 11:00:00  2019-09-29 11:00:00          20.50\n",
              "2019-09-29 17:00:00  2019-09-29 17:00:00          11.25\n",
              "2019-09-29 19:00:00  2019-09-29 19:00:00          20.50\n",
              "2019-09-29 20:00:00  2019-09-29 20:00:00          11.25\n",
              "2019-09-29 21:00:00  2019-09-29 21:00:00          86.00\n",
              "2019-09-29 22:00:00  2019-09-29 22:00:00          33.75\n",
              "2019-09-29 23:00:00  2019-09-29 23:00:00          11.25"
            ]
          },
          "metadata": {
            "tags": []
          },
          "execution_count": 68
        }
      ]
    },
    {
      "cell_type": "code",
      "metadata": {
        "id": "Zu1hyj4V7Zb0"
      },
      "source": [
        "all_days = pd.date_range(data_per_hour.index.min(), data_per_hour.index.max(), freq='H')\n",
        "data_per_hour = data_per_hour.reindex(all_days)"
      ],
      "execution_count": null,
      "outputs": []
    },
    {
      "cell_type": "code",
      "metadata": {
        "id": "nnLFvYWvAI9A"
      },
      "source": [
        "data_per_hour = data_per_hour.fillna(0)"
      ],
      "execution_count": null,
      "outputs": []
    },
    {
      "cell_type": "code",
      "metadata": {
        "id": "WOKaRCP1AV9i"
      },
      "source": [
        "data_per_hour[\"datetime_new\"] = data_per_hour.index"
      ],
      "execution_count": null,
      "outputs": []
    },
    {
      "cell_type": "code",
      "metadata": {
        "colab": {
          "base_uri": "https://localhost:8080/",
          "height": 424
        },
        "id": "VuxNw6UDAX-H",
        "outputId": "ca8da973-069e-43f0-fdd8-ab7adfb27b24"
      },
      "source": [
        "data_per_hour"
      ],
      "execution_count": null,
      "outputs": [
        {
          "output_type": "execute_result",
          "data": {
            "text/html": [
              "<div>\n",
              "<style scoped>\n",
              "    .dataframe tbody tr th:only-of-type {\n",
              "        vertical-align: middle;\n",
              "    }\n",
              "\n",
              "    .dataframe tbody tr th {\n",
              "        vertical-align: top;\n",
              "    }\n",
              "\n",
              "    .dataframe thead th {\n",
              "        text-align: right;\n",
              "    }\n",
              "</style>\n",
              "<table border=\"1\" class=\"dataframe\">\n",
              "  <thead>\n",
              "    <tr style=\"text-align: right;\">\n",
              "      <th></th>\n",
              "      <th>datetime_new</th>\n",
              "      <th>total_revenue</th>\n",
              "    </tr>\n",
              "  </thead>\n",
              "  <tbody>\n",
              "    <tr>\n",
              "      <th>2019-09-25 03:00:00</th>\n",
              "      <td>2019-09-25 03:00:00</td>\n",
              "      <td>22.50</td>\n",
              "    </tr>\n",
              "    <tr>\n",
              "      <th>2019-09-25 04:00:00</th>\n",
              "      <td>2019-09-25 04:00:00</td>\n",
              "      <td>0.00</td>\n",
              "    </tr>\n",
              "    <tr>\n",
              "      <th>2019-09-25 05:00:00</th>\n",
              "      <td>2019-09-25 05:00:00</td>\n",
              "      <td>52.25</td>\n",
              "    </tr>\n",
              "    <tr>\n",
              "      <th>2019-09-25 06:00:00</th>\n",
              "      <td>2019-09-25 06:00:00</td>\n",
              "      <td>518.75</td>\n",
              "    </tr>\n",
              "    <tr>\n",
              "      <th>2019-09-25 07:00:00</th>\n",
              "      <td>2019-09-25 07:00:00</td>\n",
              "      <td>88.00</td>\n",
              "    </tr>\n",
              "    <tr>\n",
              "      <th>...</th>\n",
              "      <td>...</td>\n",
              "      <td>...</td>\n",
              "    </tr>\n",
              "    <tr>\n",
              "      <th>2019-09-29 19:00:00</th>\n",
              "      <td>2019-09-29 19:00:00</td>\n",
              "      <td>20.50</td>\n",
              "    </tr>\n",
              "    <tr>\n",
              "      <th>2019-09-29 20:00:00</th>\n",
              "      <td>2019-09-29 20:00:00</td>\n",
              "      <td>11.25</td>\n",
              "    </tr>\n",
              "    <tr>\n",
              "      <th>2019-09-29 21:00:00</th>\n",
              "      <td>2019-09-29 21:00:00</td>\n",
              "      <td>86.00</td>\n",
              "    </tr>\n",
              "    <tr>\n",
              "      <th>2019-09-29 22:00:00</th>\n",
              "      <td>2019-09-29 22:00:00</td>\n",
              "      <td>33.75</td>\n",
              "    </tr>\n",
              "    <tr>\n",
              "      <th>2019-09-29 23:00:00</th>\n",
              "      <td>2019-09-29 23:00:00</td>\n",
              "      <td>11.25</td>\n",
              "    </tr>\n",
              "  </tbody>\n",
              "</table>\n",
              "<p>117 rows × 2 columns</p>\n",
              "</div>"
            ],
            "text/plain": [
              "                           datetime_new  total_revenue\n",
              "2019-09-25 03:00:00 2019-09-25 03:00:00          22.50\n",
              "2019-09-25 04:00:00 2019-09-25 04:00:00           0.00\n",
              "2019-09-25 05:00:00 2019-09-25 05:00:00          52.25\n",
              "2019-09-25 06:00:00 2019-09-25 06:00:00         518.75\n",
              "2019-09-25 07:00:00 2019-09-25 07:00:00          88.00\n",
              "...                                 ...            ...\n",
              "2019-09-29 19:00:00 2019-09-29 19:00:00          20.50\n",
              "2019-09-29 20:00:00 2019-09-29 20:00:00          11.25\n",
              "2019-09-29 21:00:00 2019-09-29 21:00:00          86.00\n",
              "2019-09-29 22:00:00 2019-09-29 22:00:00          33.75\n",
              "2019-09-29 23:00:00 2019-09-29 23:00:00          11.25\n",
              "\n",
              "[117 rows x 2 columns]"
            ]
          },
          "metadata": {
            "tags": []
          },
          "execution_count": 75
        }
      ]
    },
    {
      "cell_type": "code",
      "metadata": {
        "colab": {
          "base_uri": "https://localhost:8080/",
          "height": 542
        },
        "id": "niHq570mAj-e",
        "outputId": "94ab50b2-9cc8-42e9-cbab-88a0f501c0a2"
      },
      "source": [
        "fig = go.Figure()\n",
        "fig.add_trace(go.Scatter(x=data_per_hour[\"datetime_new\"], y=data_per_hour[\"total_revenue\"],\n",
        "                    mode='lines+markers',\n",
        "                    name='revenue Per hour'))\n",
        "fig.show()\n"
      ],
      "execution_count": null,
      "outputs": [
        {
          "output_type": "display_data",
          "data": {
            "text/html": [
              "<html>\n",
              "<head><meta charset=\"utf-8\" /></head>\n",
              "<body>\n",
              "    <div>\n",
              "            <script src=\"https://cdnjs.cloudflare.com/ajax/libs/mathjax/2.7.5/MathJax.js?config=TeX-AMS-MML_SVG\"></script><script type=\"text/javascript\">if (window.MathJax) {MathJax.Hub.Config({SVG: {font: \"STIX-Web\"}});}</script>\n",
              "                <script type=\"text/javascript\">window.PlotlyConfig = {MathJaxConfig: 'local'};</script>\n",
              "        <script src=\"https://cdn.plot.ly/plotly-latest.min.js\"></script>    \n",
              "            <div id=\"884a213a-3a21-490d-aa39-81399d52e6b4\" class=\"plotly-graph-div\" style=\"height:525px; width:100%;\"></div>\n",
              "            <script type=\"text/javascript\">\n",
              "                \n",
              "                    window.PLOTLYENV=window.PLOTLYENV || {};\n",
              "                    \n",
              "                if (document.getElementById(\"884a213a-3a21-490d-aa39-81399d52e6b4\")) {\n",
              "                    Plotly.newPlot(\n",
              "                        '884a213a-3a21-490d-aa39-81399d52e6b4',\n",
              "                        [{\"mode\": \"lines+markers\", \"name\": \"revenue Per hour\", \"type\": \"scatter\", \"x\": [\"2019-09-25T03:00:00\", \"2019-09-25T04:00:00\", \"2019-09-25T05:00:00\", \"2019-09-25T06:00:00\", \"2019-09-25T07:00:00\", \"2019-09-25T08:00:00\", \"2019-09-25T09:00:00\", \"2019-09-25T10:00:00\", \"2019-09-25T11:00:00\", \"2019-09-25T12:00:00\", \"2019-09-25T13:00:00\", \"2019-09-25T14:00:00\", \"2019-09-25T15:00:00\", \"2019-09-25T16:00:00\", \"2019-09-25T17:00:00\", \"2019-09-25T18:00:00\", \"2019-09-25T19:00:00\", \"2019-09-25T20:00:00\", \"2019-09-25T21:00:00\", \"2019-09-25T22:00:00\", \"2019-09-25T23:00:00\", \"2019-09-26T00:00:00\", \"2019-09-26T01:00:00\", \"2019-09-26T02:00:00\", \"2019-09-26T03:00:00\", \"2019-09-26T04:00:00\", \"2019-09-26T05:00:00\", \"2019-09-26T06:00:00\", \"2019-09-26T07:00:00\", \"2019-09-26T08:00:00\", \"2019-09-26T09:00:00\", \"2019-09-26T10:00:00\", \"2019-09-26T11:00:00\", \"2019-09-26T12:00:00\", \"2019-09-26T13:00:00\", \"2019-09-26T14:00:00\", \"2019-09-26T15:00:00\", \"2019-09-26T16:00:00\", \"2019-09-26T17:00:00\", \"2019-09-26T18:00:00\", \"2019-09-26T19:00:00\", \"2019-09-26T20:00:00\", \"2019-09-26T21:00:00\", \"2019-09-26T22:00:00\", \"2019-09-26T23:00:00\", \"2019-09-27T00:00:00\", \"2019-09-27T01:00:00\", \"2019-09-27T02:00:00\", \"2019-09-27T03:00:00\", \"2019-09-27T04:00:00\", \"2019-09-27T05:00:00\", \"2019-09-27T06:00:00\", \"2019-09-27T07:00:00\", \"2019-09-27T08:00:00\", \"2019-09-27T09:00:00\", \"2019-09-27T10:00:00\", \"2019-09-27T11:00:00\", \"2019-09-27T12:00:00\", \"2019-09-27T13:00:00\", \"2019-09-27T14:00:00\", \"2019-09-27T15:00:00\", \"2019-09-27T16:00:00\", \"2019-09-27T17:00:00\", \"2019-09-27T18:00:00\", \"2019-09-27T19:00:00\", \"2019-09-27T20:00:00\", \"2019-09-27T21:00:00\", \"2019-09-27T22:00:00\", \"2019-09-27T23:00:00\", \"2019-09-28T00:00:00\", \"2019-09-28T01:00:00\", \"2019-09-28T02:00:00\", \"2019-09-28T03:00:00\", \"2019-09-28T04:00:00\", \"2019-09-28T05:00:00\", \"2019-09-28T06:00:00\", \"2019-09-28T07:00:00\", \"2019-09-28T08:00:00\", \"2019-09-28T09:00:00\", \"2019-09-28T10:00:00\", \"2019-09-28T11:00:00\", \"2019-09-28T12:00:00\", \"2019-09-28T13:00:00\", \"2019-09-28T14:00:00\", \"2019-09-28T15:00:00\", \"2019-09-28T16:00:00\", \"2019-09-28T17:00:00\", \"2019-09-28T18:00:00\", \"2019-09-28T19:00:00\", \"2019-09-28T20:00:00\", \"2019-09-28T21:00:00\", \"2019-09-28T22:00:00\", \"2019-09-28T23:00:00\", \"2019-09-29T00:00:00\", \"2019-09-29T01:00:00\", \"2019-09-29T02:00:00\", \"2019-09-29T03:00:00\", \"2019-09-29T04:00:00\", \"2019-09-29T05:00:00\", \"2019-09-29T06:00:00\", \"2019-09-29T07:00:00\", \"2019-09-29T08:00:00\", \"2019-09-29T09:00:00\", \"2019-09-29T10:00:00\", \"2019-09-29T11:00:00\", \"2019-09-29T12:00:00\", \"2019-09-29T13:00:00\", \"2019-09-29T14:00:00\", \"2019-09-29T15:00:00\", \"2019-09-29T16:00:00\", \"2019-09-29T17:00:00\", \"2019-09-29T18:00:00\", \"2019-09-29T19:00:00\", \"2019-09-29T20:00:00\", \"2019-09-29T21:00:00\", \"2019-09-29T22:00:00\", \"2019-09-29T23:00:00\"], \"y\": [22.5, 0.0, 52.25, 518.75, 88.0, 0.0, 0.0, 11.25, 11.25, 0.0, 0.0, 22.5, 0.0, 56.25, 225.0, 0.0, 11.25, 0.0, 20.5, 88.0, 72.75, 0.0, 11.25, 11.25, 0.0, 11.25, 54.25, 547.25, 33.75, 0.0, 0.0, 0.0, 0.0, 0.0, 0.0, 0.0, 0.0, 11.25, 180.0, 0.0, 0.0, 0.0, 56.25, 72.75, 11.25, 11.25, 0.0, 0.0, 11.25, 0.0, 0.0, 335.5, 0.0, 0.0, 0.0, 0.0, 20.5, 0.0, 11.25, 0.0, 0.0, 22.5, 191.25, 0.0, 0.0, 0.0, 0.0, 0.0, 0.0, 0.0, 0.0, 0.0, 0.0, 0.0, 0.0, 0.0, 0.0, 0.0, 0.0, 0.0, 0.0, 0.0, 0.0, 0.0, 0.0, 20.5, 0.0, 0.0, 0.0, 0.0, 0.0, 0.0, 0.0, 0.0, 0.0, 0.0, 0.0, 0.0, 0.0, 0.0, 0.0, 0.0, 0.0, 0.0, 20.5, 0.0, 0.0, 0.0, 0.0, 0.0, 11.25, 0.0, 20.5, 11.25, 86.0, 33.75, 11.25]}],\n",
              "                        {\"template\": {\"data\": {\"bar\": [{\"error_x\": {\"color\": \"#2a3f5f\"}, \"error_y\": {\"color\": \"#2a3f5f\"}, \"marker\": {\"line\": {\"color\": \"#E5ECF6\", \"width\": 0.5}}, \"type\": \"bar\"}], \"barpolar\": [{\"marker\": {\"line\": {\"color\": \"#E5ECF6\", \"width\": 0.5}}, \"type\": \"barpolar\"}], \"carpet\": [{\"aaxis\": {\"endlinecolor\": \"#2a3f5f\", \"gridcolor\": \"white\", \"linecolor\": \"white\", \"minorgridcolor\": \"white\", \"startlinecolor\": \"#2a3f5f\"}, \"baxis\": {\"endlinecolor\": \"#2a3f5f\", \"gridcolor\": \"white\", \"linecolor\": \"white\", \"minorgridcolor\": \"white\", \"startlinecolor\": \"#2a3f5f\"}, \"type\": \"carpet\"}], \"choropleth\": [{\"colorbar\": {\"outlinewidth\": 0, \"ticks\": \"\"}, \"type\": \"choropleth\"}], \"contour\": [{\"colorbar\": {\"outlinewidth\": 0, \"ticks\": \"\"}, \"colorscale\": [[0.0, \"#0d0887\"], [0.1111111111111111, \"#46039f\"], [0.2222222222222222, \"#7201a8\"], [0.3333333333333333, \"#9c179e\"], [0.4444444444444444, \"#bd3786\"], [0.5555555555555556, \"#d8576b\"], [0.6666666666666666, \"#ed7953\"], [0.7777777777777778, \"#fb9f3a\"], [0.8888888888888888, \"#fdca26\"], [1.0, \"#f0f921\"]], \"type\": \"contour\"}], \"contourcarpet\": [{\"colorbar\": {\"outlinewidth\": 0, \"ticks\": \"\"}, \"type\": \"contourcarpet\"}], \"heatmap\": [{\"colorbar\": {\"outlinewidth\": 0, \"ticks\": \"\"}, \"colorscale\": [[0.0, \"#0d0887\"], [0.1111111111111111, \"#46039f\"], [0.2222222222222222, \"#7201a8\"], [0.3333333333333333, \"#9c179e\"], [0.4444444444444444, \"#bd3786\"], [0.5555555555555556, \"#d8576b\"], [0.6666666666666666, \"#ed7953\"], [0.7777777777777778, \"#fb9f3a\"], [0.8888888888888888, \"#fdca26\"], [1.0, \"#f0f921\"]], \"type\": \"heatmap\"}], \"heatmapgl\": [{\"colorbar\": {\"outlinewidth\": 0, \"ticks\": \"\"}, \"colorscale\": [[0.0, \"#0d0887\"], [0.1111111111111111, \"#46039f\"], [0.2222222222222222, \"#7201a8\"], [0.3333333333333333, \"#9c179e\"], [0.4444444444444444, \"#bd3786\"], [0.5555555555555556, \"#d8576b\"], [0.6666666666666666, \"#ed7953\"], [0.7777777777777778, \"#fb9f3a\"], [0.8888888888888888, \"#fdca26\"], [1.0, \"#f0f921\"]], \"type\": \"heatmapgl\"}], \"histogram\": [{\"marker\": {\"colorbar\": {\"outlinewidth\": 0, \"ticks\": \"\"}}, \"type\": \"histogram\"}], \"histogram2d\": [{\"colorbar\": {\"outlinewidth\": 0, \"ticks\": \"\"}, \"colorscale\": [[0.0, \"#0d0887\"], [0.1111111111111111, \"#46039f\"], [0.2222222222222222, \"#7201a8\"], [0.3333333333333333, \"#9c179e\"], [0.4444444444444444, \"#bd3786\"], [0.5555555555555556, \"#d8576b\"], [0.6666666666666666, \"#ed7953\"], [0.7777777777777778, \"#fb9f3a\"], [0.8888888888888888, \"#fdca26\"], [1.0, \"#f0f921\"]], \"type\": \"histogram2d\"}], \"histogram2dcontour\": [{\"colorbar\": {\"outlinewidth\": 0, \"ticks\": \"\"}, \"colorscale\": [[0.0, \"#0d0887\"], [0.1111111111111111, \"#46039f\"], [0.2222222222222222, \"#7201a8\"], [0.3333333333333333, \"#9c179e\"], [0.4444444444444444, \"#bd3786\"], [0.5555555555555556, \"#d8576b\"], [0.6666666666666666, \"#ed7953\"], [0.7777777777777778, \"#fb9f3a\"], [0.8888888888888888, \"#fdca26\"], [1.0, \"#f0f921\"]], \"type\": \"histogram2dcontour\"}], \"mesh3d\": [{\"colorbar\": {\"outlinewidth\": 0, \"ticks\": \"\"}, \"type\": \"mesh3d\"}], \"parcoords\": [{\"line\": {\"colorbar\": {\"outlinewidth\": 0, \"ticks\": \"\"}}, \"type\": \"parcoords\"}], \"pie\": [{\"automargin\": true, \"type\": \"pie\"}], \"scatter\": [{\"marker\": {\"colorbar\": {\"outlinewidth\": 0, \"ticks\": \"\"}}, \"type\": \"scatter\"}], \"scatter3d\": [{\"line\": {\"colorbar\": {\"outlinewidth\": 0, \"ticks\": \"\"}}, \"marker\": {\"colorbar\": {\"outlinewidth\": 0, \"ticks\": \"\"}}, \"type\": \"scatter3d\"}], \"scattercarpet\": [{\"marker\": {\"colorbar\": {\"outlinewidth\": 0, \"ticks\": \"\"}}, \"type\": \"scattercarpet\"}], \"scattergeo\": [{\"marker\": {\"colorbar\": {\"outlinewidth\": 0, \"ticks\": \"\"}}, \"type\": \"scattergeo\"}], \"scattergl\": [{\"marker\": {\"colorbar\": {\"outlinewidth\": 0, \"ticks\": \"\"}}, \"type\": \"scattergl\"}], \"scattermapbox\": [{\"marker\": {\"colorbar\": {\"outlinewidth\": 0, \"ticks\": \"\"}}, \"type\": \"scattermapbox\"}], \"scatterpolar\": [{\"marker\": {\"colorbar\": {\"outlinewidth\": 0, \"ticks\": \"\"}}, \"type\": \"scatterpolar\"}], \"scatterpolargl\": [{\"marker\": {\"colorbar\": {\"outlinewidth\": 0, \"ticks\": \"\"}}, \"type\": \"scatterpolargl\"}], \"scatterternary\": [{\"marker\": {\"colorbar\": {\"outlinewidth\": 0, \"ticks\": \"\"}}, \"type\": \"scatterternary\"}], \"surface\": [{\"colorbar\": {\"outlinewidth\": 0, \"ticks\": \"\"}, \"colorscale\": [[0.0, \"#0d0887\"], [0.1111111111111111, \"#46039f\"], [0.2222222222222222, \"#7201a8\"], [0.3333333333333333, \"#9c179e\"], [0.4444444444444444, \"#bd3786\"], [0.5555555555555556, \"#d8576b\"], [0.6666666666666666, \"#ed7953\"], [0.7777777777777778, \"#fb9f3a\"], [0.8888888888888888, \"#fdca26\"], [1.0, \"#f0f921\"]], \"type\": \"surface\"}], \"table\": [{\"cells\": {\"fill\": {\"color\": \"#EBF0F8\"}, \"line\": {\"color\": \"white\"}}, \"header\": {\"fill\": {\"color\": \"#C8D4E3\"}, \"line\": {\"color\": \"white\"}}, \"type\": \"table\"}]}, \"layout\": {\"annotationdefaults\": {\"arrowcolor\": \"#2a3f5f\", \"arrowhead\": 0, \"arrowwidth\": 1}, \"coloraxis\": {\"colorbar\": {\"outlinewidth\": 0, \"ticks\": \"\"}}, \"colorscale\": {\"diverging\": [[0, \"#8e0152\"], [0.1, \"#c51b7d\"], [0.2, \"#de77ae\"], [0.3, \"#f1b6da\"], [0.4, \"#fde0ef\"], [0.5, \"#f7f7f7\"], [0.6, \"#e6f5d0\"], [0.7, \"#b8e186\"], [0.8, \"#7fbc41\"], [0.9, \"#4d9221\"], [1, \"#276419\"]], \"sequential\": [[0.0, \"#0d0887\"], [0.1111111111111111, \"#46039f\"], [0.2222222222222222, \"#7201a8\"], [0.3333333333333333, \"#9c179e\"], [0.4444444444444444, \"#bd3786\"], [0.5555555555555556, \"#d8576b\"], [0.6666666666666666, \"#ed7953\"], [0.7777777777777778, \"#fb9f3a\"], [0.8888888888888888, \"#fdca26\"], [1.0, \"#f0f921\"]], \"sequentialminus\": [[0.0, \"#0d0887\"], [0.1111111111111111, \"#46039f\"], [0.2222222222222222, \"#7201a8\"], [0.3333333333333333, \"#9c179e\"], [0.4444444444444444, \"#bd3786\"], [0.5555555555555556, \"#d8576b\"], [0.6666666666666666, \"#ed7953\"], [0.7777777777777778, \"#fb9f3a\"], [0.8888888888888888, \"#fdca26\"], [1.0, \"#f0f921\"]]}, \"colorway\": [\"#636efa\", \"#EF553B\", \"#00cc96\", \"#ab63fa\", \"#FFA15A\", \"#19d3f3\", \"#FF6692\", \"#B6E880\", \"#FF97FF\", \"#FECB52\"], \"font\": {\"color\": \"#2a3f5f\"}, \"geo\": {\"bgcolor\": \"white\", \"lakecolor\": \"white\", \"landcolor\": \"#E5ECF6\", \"showlakes\": true, \"showland\": true, \"subunitcolor\": \"white\"}, \"hoverlabel\": {\"align\": \"left\"}, \"hovermode\": \"closest\", \"mapbox\": {\"style\": \"light\"}, \"paper_bgcolor\": \"white\", \"plot_bgcolor\": \"#E5ECF6\", \"polar\": {\"angularaxis\": {\"gridcolor\": \"white\", \"linecolor\": \"white\", \"ticks\": \"\"}, \"bgcolor\": \"#E5ECF6\", \"radialaxis\": {\"gridcolor\": \"white\", \"linecolor\": \"white\", \"ticks\": \"\"}}, \"scene\": {\"xaxis\": {\"backgroundcolor\": \"#E5ECF6\", \"gridcolor\": \"white\", \"gridwidth\": 2, \"linecolor\": \"white\", \"showbackground\": true, \"ticks\": \"\", \"zerolinecolor\": \"white\"}, \"yaxis\": {\"backgroundcolor\": \"#E5ECF6\", \"gridcolor\": \"white\", \"gridwidth\": 2, \"linecolor\": \"white\", \"showbackground\": true, \"ticks\": \"\", \"zerolinecolor\": \"white\"}, \"zaxis\": {\"backgroundcolor\": \"#E5ECF6\", \"gridcolor\": \"white\", \"gridwidth\": 2, \"linecolor\": \"white\", \"showbackground\": true, \"ticks\": \"\", \"zerolinecolor\": \"white\"}}, \"shapedefaults\": {\"line\": {\"color\": \"#2a3f5f\"}}, \"ternary\": {\"aaxis\": {\"gridcolor\": \"white\", \"linecolor\": \"white\", \"ticks\": \"\"}, \"baxis\": {\"gridcolor\": \"white\", \"linecolor\": \"white\", \"ticks\": \"\"}, \"bgcolor\": \"#E5ECF6\", \"caxis\": {\"gridcolor\": \"white\", \"linecolor\": \"white\", \"ticks\": \"\"}}, \"title\": {\"x\": 0.05}, \"xaxis\": {\"automargin\": true, \"gridcolor\": \"white\", \"linecolor\": \"white\", \"ticks\": \"\", \"title\": {\"standoff\": 15}, \"zerolinecolor\": \"white\", \"zerolinewidth\": 2}, \"yaxis\": {\"automargin\": true, \"gridcolor\": \"white\", \"linecolor\": \"white\", \"ticks\": \"\", \"title\": {\"standoff\": 15}, \"zerolinecolor\": \"white\", \"zerolinewidth\": 2}}}},\n",
              "                        {\"responsive\": true}\n",
              "                    ).then(function(){\n",
              "                            \n",
              "var gd = document.getElementById('884a213a-3a21-490d-aa39-81399d52e6b4');\n",
              "var x = new MutationObserver(function (mutations, observer) {{\n",
              "        var display = window.getComputedStyle(gd).display;\n",
              "        if (!display || display === 'none') {{\n",
              "            console.log([gd, 'removed!']);\n",
              "            Plotly.purge(gd);\n",
              "            observer.disconnect();\n",
              "        }}\n",
              "}});\n",
              "\n",
              "// Listen for the removal of the full notebook cells\n",
              "var notebookContainer = gd.closest('#notebook-container');\n",
              "if (notebookContainer) {{\n",
              "    x.observe(notebookContainer, {childList: true});\n",
              "}}\n",
              "\n",
              "// Listen for the clearing of the current output cell\n",
              "var outputEl = gd.closest('.output');\n",
              "if (outputEl) {{\n",
              "    x.observe(outputEl, {childList: true});\n",
              "}}\n",
              "\n",
              "                        })\n",
              "                };\n",
              "                \n",
              "            </script>\n",
              "        </div>\n",
              "</body>\n",
              "</html>"
            ]
          },
          "metadata": {
            "tags": []
          }
        }
      ]
    },
    {
      "cell_type": "code",
      "metadata": {
        "id": "uyg8CwG-BD52"
      },
      "source": [
        "data_per_hour.columns = [\"ds\", \"y\"]"
      ],
      "execution_count": null,
      "outputs": []
    },
    {
      "cell_type": "code",
      "metadata": {
        "id": "WdgZmzYkBkDd"
      },
      "source": [
        ""
      ],
      "execution_count": null,
      "outputs": []
    },
    {
      "cell_type": "markdown",
      "metadata": {
        "id": "gqfdPqbpBllX"
      },
      "source": [
        "Prophet model for revenue per hour to increase the data"
      ]
    },
    {
      "cell_type": "code",
      "metadata": {
        "colab": {
          "base_uri": "https://localhost:8080/",
          "height": 665
        },
        "id": "o7-uqvgwBsvj",
        "outputId": "c3212f2d-0438-4763-9079-0a1b0905e3ea"
      },
      "source": [
        "# Forecasting by prophet\n",
        "data_per_hour['floor'] = 20\n",
        "data_per_hour['cap'] = 700\n",
        "m = Prophet(growth='logistic')\n",
        "m.fit(data_per_hour)\n",
        "\n",
        "future = m.make_future_dataframe(periods=1)\n",
        "future['floor'] = 20\n",
        "future['cap'] = 700\n",
        "fcst = m.predict(future)\n",
        "fig = m.plot(fcst)\n",
        "future.tail()"
      ],
      "execution_count": null,
      "outputs": [
        {
          "output_type": "stream",
          "text": [
            "INFO:fbprophet:Disabling yearly seasonality. Run prophet with yearly_seasonality=True to override this.\n",
            "INFO:fbprophet:Disabling weekly seasonality. Run prophet with weekly_seasonality=True to override this.\n"
          ],
          "name": "stderr"
        },
        {
          "output_type": "execute_result",
          "data": {
            "text/html": [
              "<div>\n",
              "<style scoped>\n",
              "    .dataframe tbody tr th:only-of-type {\n",
              "        vertical-align: middle;\n",
              "    }\n",
              "\n",
              "    .dataframe tbody tr th {\n",
              "        vertical-align: top;\n",
              "    }\n",
              "\n",
              "    .dataframe thead th {\n",
              "        text-align: right;\n",
              "    }\n",
              "</style>\n",
              "<table border=\"1\" class=\"dataframe\">\n",
              "  <thead>\n",
              "    <tr style=\"text-align: right;\">\n",
              "      <th></th>\n",
              "      <th>ds</th>\n",
              "      <th>floor</th>\n",
              "      <th>cap</th>\n",
              "    </tr>\n",
              "  </thead>\n",
              "  <tbody>\n",
              "    <tr>\n",
              "      <th>113</th>\n",
              "      <td>2019-09-29 20:00:00</td>\n",
              "      <td>20</td>\n",
              "      <td>700</td>\n",
              "    </tr>\n",
              "    <tr>\n",
              "      <th>114</th>\n",
              "      <td>2019-09-29 21:00:00</td>\n",
              "      <td>20</td>\n",
              "      <td>700</td>\n",
              "    </tr>\n",
              "    <tr>\n",
              "      <th>115</th>\n",
              "      <td>2019-09-29 22:00:00</td>\n",
              "      <td>20</td>\n",
              "      <td>700</td>\n",
              "    </tr>\n",
              "    <tr>\n",
              "      <th>116</th>\n",
              "      <td>2019-09-29 23:00:00</td>\n",
              "      <td>20</td>\n",
              "      <td>700</td>\n",
              "    </tr>\n",
              "    <tr>\n",
              "      <th>117</th>\n",
              "      <td>2019-09-30 23:00:00</td>\n",
              "      <td>20</td>\n",
              "      <td>700</td>\n",
              "    </tr>\n",
              "  </tbody>\n",
              "</table>\n",
              "</div>"
            ],
            "text/plain": [
              "                     ds  floor  cap\n",
              "113 2019-09-29 20:00:00     20  700\n",
              "114 2019-09-29 21:00:00     20  700\n",
              "115 2019-09-29 22:00:00     20  700\n",
              "116 2019-09-29 23:00:00     20  700\n",
              "117 2019-09-30 23:00:00     20  700"
            ]
          },
          "metadata": {
            "tags": []
          },
          "execution_count": 84
        },
        {
          "output_type": "display_data",
          "data": {
            "image/png": "[encoded data removed]",
            "text/plain": [
              "<Figure size 720x432 with 1 Axes>"
            ]
          },
          "metadata": {
            "tags": []
          }
        }
      ]
    },
    {
      "cell_type": "code",
      "metadata": {
        "id": "zkq3VaasCAIH"
      },
      "source": [
        ""
      ],
      "execution_count": null,
      "outputs": []
    },
    {
      "cell_type": "markdown",
      "metadata": {
        "id": "-cbagodRCnO-"
      },
      "source": [
        "Neural Prophet output for per hour revenue"
      ]
    },
    {
      "cell_type": "code",
      "metadata": {
        "id": "YmxF-o83CsuE"
      },
      "source": [
        "model = NeuralProphet(\n",
        "    growth=\"linear\",  # Determine trend types: 'linear', 'discontinuous', 'off'\n",
        "    changepoints=None, # list of dates that may include change points (None -> automatic )\n",
        "    n_changepoints=5,\n",
        "    changepoints_range=0.8,\n",
        "    trend_reg=0,\n",
        "    trend_reg_threshold=False,\n",
        "    yearly_seasonality=\"auto\",\n",
        "    weekly_seasonality=\"auto\",\n",
        "    daily_seasonality=\"auto\",\n",
        "    seasonality_mode=\"additive\",\n",
        "    seasonality_reg=0,\n",
        "    n_forecasts=1,\n",
        "    n_lags=0,\n",
        "    num_hidden_layers=50,\n",
        "    d_hidden=2,     # Dimension of hidden layers of AR-Net\n",
        "    ar_sparsity=None,  # Sparcity in the AR coefficients\n",
        "    learning_rate=None,\n",
        "    epochs=100,\n",
        "    loss_func=\"Huber\",\n",
        "    normalize=\"auto\",  # Type of normalization ('minmax', 'standardize', 'soft', 'off')\n",
        "    impute_missing=True,\n",
        "    log_level=None, # Determines the logging level of the logger object\n",
        ")"
      ],
      "execution_count": null,
      "outputs": []
    },
    {
      "cell_type": "code",
      "metadata": {
        "id": "_1bpYe-hC_wO"
      },
      "source": [
        "data_per_hour_neural = data_per_hour[[\"ds\",\"y\"]]"
      ],
      "execution_count": null,
      "outputs": []
    },
    {
      "cell_type": "code",
      "metadata": {
        "colab": {
          "base_uri": "https://localhost:8080/",
          "height": 295,
          "referenced_widgets": [
            "4723abe022c742ebb693e4a8de178482",
            "16622a33d43e4530a403ce3a795003d0",
            "43a39bb023f848d4a9b3cee1a2d8e16a",
            "78df748cc63c42b6960c878b809dd747",
            "2da0bfed222f4997acb9134b003b1276",
            "ed4e05da220743b798631edcd64111a9",
            "b551d57c4f754272a11450b8d788f669",
            "24547ab5f6a448d7b24048ac39ca731b",
            "35c8d69026824b5ca33314d212e08879",
            "27f0fab9146e450aa1cede6d960059e8",
            "d6e8aae2ee224103bb7e3802b88a78e1"
          ]
        },
        "id": "W0Ju7j1KCytB",
        "outputId": "066d3f7b-679f-40d2-f03e-f067c9a642b0"
      },
      "source": [
        "metrics = model.fit(data_per_hour_neural, validate_each_epoch=True, freq=\"H\") \n",
        "future = model.make_future_dataframe(data_per_hour_neural, periods=5, n_historic_predictions=len(data_per_hour_neural)) \n",
        "forecast = model.predict(future)"
      ],
      "execution_count": null,
      "outputs": [
        {
          "output_type": "stream",
          "text": [
            "WARNING: nprophet - fit: Parts of code may break if using other than daily data.\n",
            "WARNING:nprophet:Parts of code may break if using other than daily data.\n",
            "INFO: nprophet.utils - set_auto_seasonalities: Disabling yearly seasonality. Run NeuralProphet with yearly_seasonality=True to override this.\n",
            "INFO:nprophet.utils:Disabling yearly seasonality. Run NeuralProphet with yearly_seasonality=True to override this.\n",
            "INFO: nprophet.utils - set_auto_seasonalities: Disabling weekly seasonality. Run NeuralProphet with weekly_seasonality=True to override this.\n",
            "INFO:nprophet.utils:Disabling weekly seasonality. Run NeuralProphet with weekly_seasonality=True to override this.\n",
            "INFO: nprophet.config - set_auto_batch_epoch: Auto-set batch_size to 2\n",
            "INFO:nprophet.config:Auto-set batch_size to 2\n"
          ],
          "name": "stderr"
        },
        {
          "output_type": "display_data",
          "data": {
            "application/vnd.jupyter.widget-view+json": {
              "model_id": "4723abe022c742ebb693e4a8de178482",
              "version_major": 2,
              "version_minor": 0
            },
            "text/plain": [
              "  0%|          | 0/100 [00:00<?, ?it/s]"
            ]
          },
          "metadata": {
            "tags": []
          }
        },
        {
          "output_type": "stream",
          "text": [
            "ERROR: nprophet - _lr_range_test: Failed to compute the gradients, there might not be enough points.\n",
            "ERROR:nprophet:Failed to compute the gradients, there might not be enough points.\n",
            "ERROR: nprophet - _lr_range_test: lr range test failed. defaulting to lr: 0.1\n",
            "ERROR:nprophet:lr range test failed. defaulting to lr: 0.1\n",
            "Epoch[100/100]: 100%|██████████| 100/100 [00:06<00:00, 15.42it/s, SmoothL1Loss=0.171, MAE=33.1, RegLoss=0, MAE_val=35.7, SmoothL1Loss_val=0.0978]\n"
          ],
          "name": "stderr"
        }
      ]
    },
    {
      "cell_type": "code",
      "metadata": {
        "colab": {
          "base_uri": "https://localhost:8080/",
          "height": 542
        },
        "id": "yuZ_X4ffC9Kg",
        "outputId": "e5d2b57e-932d-4e1d-a53a-a551d6344b3c"
      },
      "source": [
        "fig = go.Figure()\n",
        "fig.add_trace(go.Scatter(x=forecast[\"ds\"], y=forecast[\"y\"],\n",
        "                    mode='lines+markers',\n",
        "                    name='revenue Per hour by neural prophet'))\n",
        "fig.show()\n"
      ],
      "execution_count": null,
      "outputs": [
        {
          "output_type": "display_data",
          "data": {
            "text/html": [
              "<html>\n",
              "<head><meta charset=\"utf-8\" /></head>\n",
              "<body>\n",
              "    <div>\n",
              "            <script src=\"https://cdnjs.cloudflare.com/ajax/libs/mathjax/2.7.5/MathJax.js?config=TeX-AMS-MML_SVG\"></script><script type=\"text/javascript\">if (window.MathJax) {MathJax.Hub.Config({SVG: {font: \"STIX-Web\"}});}</script>\n",
              "                <script type=\"text/javascript\">window.PlotlyConfig = {MathJaxConfig: 'local'};</script>\n",
              "        <script src=\"https://cdn.plot.ly/plotly-latest.min.js\"></script>    \n",
              "            <div id=\"97a2b76e-8a9c-40ae-95d5-ec2194d87a86\" class=\"plotly-graph-div\" style=\"height:525px; width:100%;\"></div>\n",
              "            <script type=\"text/javascript\">\n",
              "                \n",
              "                    window.PLOTLYENV=window.PLOTLYENV || {};\n",
              "                    \n",
              "                if (document.getElementById(\"97a2b76e-8a9c-40ae-95d5-ec2194d87a86\")) {\n",
              "                    Plotly.newPlot(\n",
              "                        '97a2b76e-8a9c-40ae-95d5-ec2194d87a86',\n",
              "                        [{\"mode\": \"lines+markers\", \"name\": \"revenue Per hour by neural prophet\", \"type\": \"scatter\", \"x\": [\"2019-09-25T03:00:00\", \"2019-09-25T04:00:00\", \"2019-09-25T05:00:00\", \"2019-09-25T06:00:00\", \"2019-09-25T07:00:00\", \"2019-09-25T08:00:00\", \"2019-09-25T09:00:00\", \"2019-09-25T10:00:00\", \"2019-09-25T11:00:00\", \"2019-09-25T12:00:00\", \"2019-09-25T13:00:00\", \"2019-09-25T14:00:00\", \"2019-09-25T15:00:00\", \"2019-09-25T16:00:00\", \"2019-09-25T17:00:00\", \"2019-09-25T18:00:00\", \"2019-09-25T19:00:00\", \"2019-09-25T20:00:00\", \"2019-09-25T21:00:00\", \"2019-09-25T22:00:00\", \"2019-09-25T23:00:00\", \"2019-09-26T00:00:00\", \"2019-09-26T01:00:00\", \"2019-09-26T02:00:00\", \"2019-09-26T03:00:00\", \"2019-09-26T04:00:00\", \"2019-09-26T05:00:00\", \"2019-09-26T06:00:00\", \"2019-09-26T07:00:00\", \"2019-09-26T08:00:00\", \"2019-09-26T09:00:00\", \"2019-09-26T10:00:00\", \"2019-09-26T11:00:00\", \"2019-09-26T12:00:00\", \"2019-09-26T13:00:00\", \"2019-09-26T14:00:00\", \"2019-09-26T15:00:00\", \"2019-09-26T16:00:00\", \"2019-09-26T17:00:00\", \"2019-09-26T18:00:00\", \"2019-09-26T19:00:00\", \"2019-09-26T20:00:00\", \"2019-09-26T21:00:00\", \"2019-09-26T22:00:00\", \"2019-09-26T23:00:00\", \"2019-09-27T00:00:00\", \"2019-09-27T01:00:00\", \"2019-09-27T02:00:00\", \"2019-09-27T03:00:00\", \"2019-09-27T04:00:00\", \"2019-09-27T05:00:00\", \"2019-09-27T06:00:00\", \"2019-09-27T07:00:00\", \"2019-09-27T08:00:00\", \"2019-09-27T09:00:00\", \"2019-09-27T10:00:00\", \"2019-09-27T11:00:00\", \"2019-09-27T12:00:00\", \"2019-09-27T13:00:00\", \"2019-09-27T14:00:00\", \"2019-09-27T15:00:00\", \"2019-09-27T16:00:00\", \"2019-09-27T17:00:00\", \"2019-09-27T18:00:00\", \"2019-09-27T19:00:00\", \"2019-09-27T20:00:00\", \"2019-09-27T21:00:00\", \"2019-09-27T22:00:00\", \"2019-09-27T23:00:00\", \"2019-09-28T00:00:00\", \"2019-09-28T01:00:00\", \"2019-09-28T02:00:00\", \"2019-09-28T03:00:00\", \"2019-09-28T04:00:00\", \"2019-09-28T05:00:00\", \"2019-09-28T06:00:00\", \"2019-09-28T07:00:00\", \"2019-09-28T08:00:00\", \"2019-09-28T09:00:00\", \"2019-09-28T10:00:00\", \"2019-09-28T11:00:00\", \"2019-09-28T12:00:00\", \"2019-09-28T13:00:00\", \"2019-09-28T14:00:00\", \"2019-09-28T15:00:00\", \"2019-09-28T16:00:00\", \"2019-09-28T17:00:00\", \"2019-09-28T18:00:00\", \"2019-09-28T19:00:00\", \"2019-09-28T20:00:00\", \"2019-09-28T21:00:00\", \"2019-09-28T22:00:00\", \"2019-09-28T23:00:00\", \"2019-09-29T00:00:00\", \"2019-09-29T01:00:00\", \"2019-09-29T02:00:00\", \"2019-09-29T03:00:00\", \"2019-09-29T04:00:00\", \"2019-09-29T05:00:00\", \"2019-09-29T06:00:00\", \"2019-09-29T07:00:00\", \"2019-09-29T08:00:00\", \"2019-09-29T09:00:00\", \"2019-09-29T10:00:00\", \"2019-09-29T11:00:00\", \"2019-09-29T12:00:00\", \"2019-09-29T13:00:00\", \"2019-09-29T14:00:00\", \"2019-09-29T15:00:00\", \"2019-09-29T16:00:00\", \"2019-09-29T17:00:00\", \"2019-09-29T18:00:00\", \"2019-09-29T19:00:00\", \"2019-09-29T20:00:00\", \"2019-09-29T21:00:00\", \"2019-09-29T22:00:00\", \"2019-09-29T23:00:00\", \"2019-09-30T00:00:00\", \"2019-09-30T01:00:00\", \"2019-09-30T02:00:00\", \"2019-09-30T03:00:00\", \"2019-09-30T04:00:00\"], \"y\": [22.5, 0.0, 52.25, 518.75, 88.0, 0.0, 0.0, 11.25, 11.25, 0.0, 0.0, 22.5, 0.0, 56.25, 225.0, 0.0, 11.25, 0.0, 20.5, 88.0, 72.75, 0.0, 11.25, 11.25, 0.0, 11.25, 54.25, 547.25, 33.75, 0.0, 0.0, 0.0, 0.0, 0.0, 0.0, 0.0, 0.0, 11.25, 180.0, 0.0, 0.0, 0.0, 56.25, 72.75, 11.25, 11.25, 0.0, 0.0, 11.25, 0.0, 0.0, 335.5, 0.0, 0.0, 0.0, 0.0, 20.5, 0.0, 11.25, 0.0, 0.0, 22.5, 191.25, 0.0, 0.0, 0.0, 0.0, 0.0, 0.0, 0.0, 0.0, 0.0, 0.0, 0.0, 0.0, 0.0, 0.0, 0.0, 0.0, 0.0, 0.0, 0.0, 0.0, 0.0, 0.0, 20.5, 0.0, 0.0, 0.0, 0.0, 0.0, 0.0, 0.0, 0.0, 0.0, 0.0, 0.0, 0.0, 0.0, 0.0, 0.0, 0.0, 0.0, 0.0, 20.5, 0.0, 0.0, 0.0, 0.0, 0.0, 11.25, 0.0, 20.5, 11.25, 86.0, 33.75, 11.25, null, null, null, null, null]}],\n",
              "                        {\"template\": {\"data\": {\"bar\": [{\"error_x\": {\"color\": \"#2a3f5f\"}, \"error_y\": {\"color\": \"#2a3f5f\"}, \"marker\": {\"line\": {\"color\": \"#E5ECF6\", \"width\": 0.5}}, \"type\": \"bar\"}], \"barpolar\": [{\"marker\": {\"line\": {\"color\": \"#E5ECF6\", \"width\": 0.5}}, \"type\": \"barpolar\"}], \"carpet\": [{\"aaxis\": {\"endlinecolor\": \"#2a3f5f\", \"gridcolor\": \"white\", \"linecolor\": \"white\", \"minorgridcolor\": \"white\", \"startlinecolor\": \"#2a3f5f\"}, \"baxis\": {\"endlinecolor\": \"#2a3f5f\", \"gridcolor\": \"white\", \"linecolor\": \"white\", \"minorgridcolor\": \"white\", \"startlinecolor\": \"#2a3f5f\"}, \"type\": \"carpet\"}], \"choropleth\": [{\"colorbar\": {\"outlinewidth\": 0, \"ticks\": \"\"}, \"type\": \"choropleth\"}], \"contour\": [{\"colorbar\": {\"outlinewidth\": 0, \"ticks\": \"\"}, \"colorscale\": [[0.0, \"#0d0887\"], [0.1111111111111111, \"#46039f\"], [0.2222222222222222, \"#7201a8\"], [0.3333333333333333, \"#9c179e\"], [0.4444444444444444, \"#bd3786\"], [0.5555555555555556, \"#d8576b\"], [0.6666666666666666, \"#ed7953\"], [0.7777777777777778, \"#fb9f3a\"], [0.8888888888888888, \"#fdca26\"], [1.0, \"#f0f921\"]], \"type\": \"contour\"}], \"contourcarpet\": [{\"colorbar\": {\"outlinewidth\": 0, \"ticks\": \"\"}, \"type\": \"contourcarpet\"}], \"heatmap\": [{\"colorbar\": {\"outlinewidth\": 0, \"ticks\": \"\"}, \"colorscale\": [[0.0, \"#0d0887\"], [0.1111111111111111, \"#46039f\"], [0.2222222222222222, \"#7201a8\"], [0.3333333333333333, \"#9c179e\"], [0.4444444444444444, \"#bd3786\"], [0.5555555555555556, \"#d8576b\"], [0.6666666666666666, \"#ed7953\"], [0.7777777777777778, \"#fb9f3a\"], [0.8888888888888888, \"#fdca26\"], [1.0, \"#f0f921\"]], \"type\": \"heatmap\"}], \"heatmapgl\": [{\"colorbar\": {\"outlinewidth\": 0, \"ticks\": \"\"}, \"colorscale\": [[0.0, \"#0d0887\"], [0.1111111111111111, \"#46039f\"], [0.2222222222222222, \"#7201a8\"], [0.3333333333333333, \"#9c179e\"], [0.4444444444444444, \"#bd3786\"], [0.5555555555555556, \"#d8576b\"], [0.6666666666666666, \"#ed7953\"], [0.7777777777777778, \"#fb9f3a\"], [0.8888888888888888, \"#fdca26\"], [1.0, \"#f0f921\"]], \"type\": \"heatmapgl\"}], \"histogram\": [{\"marker\": {\"colorbar\": {\"outlinewidth\": 0, \"ticks\": \"\"}}, \"type\": \"histogram\"}], \"histogram2d\": [{\"colorbar\": {\"outlinewidth\": 0, \"ticks\": \"\"}, \"colorscale\": [[0.0, \"#0d0887\"], [0.1111111111111111, \"#46039f\"], [0.2222222222222222, \"#7201a8\"], [0.3333333333333333, \"#9c179e\"], [0.4444444444444444, \"#bd3786\"], [0.5555555555555556, \"#d8576b\"], [0.6666666666666666, \"#ed7953\"], [0.7777777777777778, \"#fb9f3a\"], [0.8888888888888888, \"#fdca26\"], [1.0, \"#f0f921\"]], \"type\": \"histogram2d\"}], \"histogram2dcontour\": [{\"colorbar\": {\"outlinewidth\": 0, \"ticks\": \"\"}, \"colorscale\": [[0.0, \"#0d0887\"], [0.1111111111111111, \"#46039f\"], [0.2222222222222222, \"#7201a8\"], [0.3333333333333333, \"#9c179e\"], [0.4444444444444444, \"#bd3786\"], [0.5555555555555556, \"#d8576b\"], [0.6666666666666666, \"#ed7953\"], [0.7777777777777778, \"#fb9f3a\"], [0.8888888888888888, \"#fdca26\"], [1.0, \"#f0f921\"]], \"type\": \"histogram2dcontour\"}], \"mesh3d\": [{\"colorbar\": {\"outlinewidth\": 0, \"ticks\": \"\"}, \"type\": \"mesh3d\"}], \"parcoords\": [{\"line\": {\"colorbar\": {\"outlinewidth\": 0, \"ticks\": \"\"}}, \"type\": \"parcoords\"}], \"pie\": [{\"automargin\": true, \"type\": \"pie\"}], \"scatter\": [{\"marker\": {\"colorbar\": {\"outlinewidth\": 0, \"ticks\": \"\"}}, \"type\": \"scatter\"}], \"scatter3d\": [{\"line\": {\"colorbar\": {\"outlinewidth\": 0, \"ticks\": \"\"}}, \"marker\": {\"colorbar\": {\"outlinewidth\": 0, \"ticks\": \"\"}}, \"type\": \"scatter3d\"}], \"scattercarpet\": [{\"marker\": {\"colorbar\": {\"outlinewidth\": 0, \"ticks\": \"\"}}, \"type\": \"scattercarpet\"}], \"scattergeo\": [{\"marker\": {\"colorbar\": {\"outlinewidth\": 0, \"ticks\": \"\"}}, \"type\": \"scattergeo\"}], \"scattergl\": [{\"marker\": {\"colorbar\": {\"outlinewidth\": 0, \"ticks\": \"\"}}, \"type\": \"scattergl\"}], \"scattermapbox\": [{\"marker\": {\"colorbar\": {\"outlinewidth\": 0, \"ticks\": \"\"}}, \"type\": \"scattermapbox\"}], \"scatterpolar\": [{\"marker\": {\"colorbar\": {\"outlinewidth\": 0, \"ticks\": \"\"}}, \"type\": \"scatterpolar\"}], \"scatterpolargl\": [{\"marker\": {\"colorbar\": {\"outlinewidth\": 0, \"ticks\": \"\"}}, \"type\": \"scatterpolargl\"}], \"scatterternary\": [{\"marker\": {\"colorbar\": {\"outlinewidth\": 0, \"ticks\": \"\"}}, \"type\": \"scatterternary\"}], \"surface\": [{\"colorbar\": {\"outlinewidth\": 0, \"ticks\": \"\"}, \"colorscale\": [[0.0, \"#0d0887\"], [0.1111111111111111, \"#46039f\"], [0.2222222222222222, \"#7201a8\"], [0.3333333333333333, \"#9c179e\"], [0.4444444444444444, \"#bd3786\"], [0.5555555555555556, \"#d8576b\"], [0.6666666666666666, \"#ed7953\"], [0.7777777777777778, \"#fb9f3a\"], [0.8888888888888888, \"#fdca26\"], [1.0, \"#f0f921\"]], \"type\": \"surface\"}], \"table\": [{\"cells\": {\"fill\": {\"color\": \"#EBF0F8\"}, \"line\": {\"color\": \"white\"}}, \"header\": {\"fill\": {\"color\": \"#C8D4E3\"}, \"line\": {\"color\": \"white\"}}, \"type\": \"table\"}]}, \"layout\": {\"annotationdefaults\": {\"arrowcolor\": \"#2a3f5f\", \"arrowhead\": 0, \"arrowwidth\": 1}, \"coloraxis\": {\"colorbar\": {\"outlinewidth\": 0, \"ticks\": \"\"}}, \"colorscale\": {\"diverging\": [[0, \"#8e0152\"], [0.1, \"#c51b7d\"], [0.2, \"#de77ae\"], [0.3, \"#f1b6da\"], [0.4, \"#fde0ef\"], [0.5, \"#f7f7f7\"], [0.6, \"#e6f5d0\"], [0.7, \"#b8e186\"], [0.8, \"#7fbc41\"], [0.9, \"#4d9221\"], [1, \"#276419\"]], \"sequential\": [[0.0, \"#0d0887\"], [0.1111111111111111, \"#46039f\"], [0.2222222222222222, \"#7201a8\"], [0.3333333333333333, \"#9c179e\"], [0.4444444444444444, \"#bd3786\"], [0.5555555555555556, \"#d8576b\"], [0.6666666666666666, \"#ed7953\"], [0.7777777777777778, \"#fb9f3a\"], [0.8888888888888888, \"#fdca26\"], [1.0, \"#f0f921\"]], \"sequentialminus\": [[0.0, \"#0d0887\"], [0.1111111111111111, \"#46039f\"], [0.2222222222222222, \"#7201a8\"], [0.3333333333333333, \"#9c179e\"], [0.4444444444444444, \"#bd3786\"], [0.5555555555555556, \"#d8576b\"], [0.6666666666666666, \"#ed7953\"], [0.7777777777777778, \"#fb9f3a\"], [0.8888888888888888, \"#fdca26\"], [1.0, \"#f0f921\"]]}, \"colorway\": [\"#636efa\", \"#EF553B\", \"#00cc96\", \"#ab63fa\", \"#FFA15A\", \"#19d3f3\", \"#FF6692\", \"#B6E880\", \"#FF97FF\", \"#FECB52\"], \"font\": {\"color\": \"#2a3f5f\"}, \"geo\": {\"bgcolor\": \"white\", \"lakecolor\": \"white\", \"landcolor\": \"#E5ECF6\", \"showlakes\": true, \"showland\": true, \"subunitcolor\": \"white\"}, \"hoverlabel\": {\"align\": \"left\"}, \"hovermode\": \"closest\", \"mapbox\": {\"style\": \"light\"}, \"paper_bgcolor\": \"white\", \"plot_bgcolor\": \"#E5ECF6\", \"polar\": {\"angularaxis\": {\"gridcolor\": \"white\", \"linecolor\": \"white\", \"ticks\": \"\"}, \"bgcolor\": \"#E5ECF6\", \"radialaxis\": {\"gridcolor\": \"white\", \"linecolor\": \"white\", \"ticks\": \"\"}}, \"scene\": {\"xaxis\": {\"backgroundcolor\": \"#E5ECF6\", \"gridcolor\": \"white\", \"gridwidth\": 2, \"linecolor\": \"white\", \"showbackground\": true, \"ticks\": \"\", \"zerolinecolor\": \"white\"}, \"yaxis\": {\"backgroundcolor\": \"#E5ECF6\", \"gridcolor\": \"white\", \"gridwidth\": 2, \"linecolor\": \"white\", \"showbackground\": true, \"ticks\": \"\", \"zerolinecolor\": \"white\"}, \"zaxis\": {\"backgroundcolor\": \"#E5ECF6\", \"gridcolor\": \"white\", \"gridwidth\": 2, \"linecolor\": \"white\", \"showbackground\": true, \"ticks\": \"\", \"zerolinecolor\": \"white\"}}, \"shapedefaults\": {\"line\": {\"color\": \"#2a3f5f\"}}, \"ternary\": {\"aaxis\": {\"gridcolor\": \"white\", \"linecolor\": \"white\", \"ticks\": \"\"}, \"baxis\": {\"gridcolor\": \"white\", \"linecolor\": \"white\", \"ticks\": \"\"}, \"bgcolor\": \"#E5ECF6\", \"caxis\": {\"gridcolor\": \"white\", \"linecolor\": \"white\", \"ticks\": \"\"}}, \"title\": {\"x\": 0.05}, \"xaxis\": {\"automargin\": true, \"gridcolor\": \"white\", \"linecolor\": \"white\", \"ticks\": \"\", \"title\": {\"standoff\": 15}, \"zerolinecolor\": \"white\", \"zerolinewidth\": 2}, \"yaxis\": {\"automargin\": true, \"gridcolor\": \"white\", \"linecolor\": \"white\", \"ticks\": \"\", \"title\": {\"standoff\": 15}, \"zerolinecolor\": \"white\", \"zerolinewidth\": 2}}}},\n",
              "                        {\"responsive\": true}\n",
              "                    ).then(function(){\n",
              "                            \n",
              "var gd = document.getElementById('97a2b76e-8a9c-40ae-95d5-ec2194d87a86');\n",
              "var x = new MutationObserver(function (mutations, observer) {{\n",
              "        var display = window.getComputedStyle(gd).display;\n",
              "        if (!display || display === 'none') {{\n",
              "            console.log([gd, 'removed!']);\n",
              "            Plotly.purge(gd);\n",
              "            observer.disconnect();\n",
              "        }}\n",
              "}});\n",
              "\n",
              "// Listen for the removal of the full notebook cells\n",
              "var notebookContainer = gd.closest('#notebook-container');\n",
              "if (notebookContainer) {{\n",
              "    x.observe(notebookContainer, {childList: true});\n",
              "}}\n",
              "\n",
              "// Listen for the clearing of the current output cell\n",
              "var outputEl = gd.closest('.output');\n",
              "if (outputEl) {{\n",
              "    x.observe(outputEl, {childList: true});\n",
              "}}\n",
              "\n",
              "                        })\n",
              "                };\n",
              "                \n",
              "            </script>\n",
              "        </div>\n",
              "</body>\n",
              "</html>"
            ]
          },
          "metadata": {
            "tags": []
          }
        }
      ]
    },
    {
      "cell_type": "markdown",
      "metadata": {
        "id": "fMHbO1RTD7yk"
      },
      "source": [
        "Neural Prophet is not providing better results because of vanishing gradient problem."
      ]
    },
    {
      "cell_type": "code",
      "metadata": {
        "id": "2naMVt8jDKl6"
      },
      "source": [
        ""
      ],
      "execution_count": null,
      "outputs": []
    }
  ]
}